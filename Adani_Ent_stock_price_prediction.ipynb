{
  "nbformat": 4,
  "nbformat_minor": 0,
  "metadata": {
    "colab": {
      "provenance": []
    },
    "kernelspec": {
      "name": "python3",
      "display_name": "Python 3"
    },
    "language_info": {
      "name": "python"
    }
  },
  "cells": [
    {
      "cell_type": "markdown",
      "source": [
        "STOCK PRICE PREDICTION Using Regression and Deep Learning Algorithms\n"
      ],
      "metadata": {
        "id": "dYqoFU-Vi4Db"
      }
    },
    {
      "cell_type": "code",
      "source": [
        "import pandas as pd\n",
        "import numpy as np\n",
        "import matplotlib.pyplot as plt\n",
        "import seaborn as sns\n",
        "import yfinance as yf\n",
        "import datetime\n",
        "import warnings\n",
        "warnings.filterwarnings('ignore')\n"
      ],
      "metadata": {
        "id": "YVVIQXPbi45O"
      },
      "execution_count": 4,
      "outputs": []
    },
    {
      "cell_type": "code",
      "source": [
        " df = yf.download(\"ADANIENT.NS\", start=\"2020-01-01\", end=\"2023-02-12\")\n",
        "df"
      ],
      "metadata": {
        "colab": {
          "base_uri": "https://localhost:8080/",
          "height": 473
        },
        "id": "oK8QfrDljHX9",
        "outputId": "b148516a-96b0-4449-88d4-8302b1599eba"
      },
      "execution_count": 5,
      "outputs": [
        {
          "output_type": "stream",
          "name": "stdout",
          "text": [
            "\r[*********************100%***********************]  1 of 1 completed\n"
          ]
        },
        {
          "output_type": "execute_result",
          "data": {
            "text/plain": [
              "                   Open         High          Low        Close    Adj Close  \\\n",
              "Date                                                                          \n",
              "2020-01-01   209.000000   210.449997   206.649994   207.850006   206.116074   \n",
              "2020-01-02   208.000000   213.199997   207.500000   211.199997   209.438110   \n",
              "2020-01-03   210.250000   212.350006   205.800003   208.300003   206.562302   \n",
              "2020-01-06   207.750000   207.750000   197.750000   199.550003   197.885300   \n",
              "2020-01-07   200.550003   205.699997   200.550003   204.050003   202.347778   \n",
              "...                 ...          ...          ...          ...          ...   \n",
              "2023-02-06  1575.000000  1615.000000  1435.199951  1572.699951  1572.699951   \n",
              "2023-02-07  1571.000000  1962.699951  1525.599976  1802.949951  1802.949951   \n",
              "2023-02-08  1869.849976  2222.149902  1840.849976  2164.250000  2164.250000   \n",
              "2023-02-09  2168.000000  2168.000000  1731.400024  1925.699951  1925.699951   \n",
              "2023-02-10  1769.000000  1990.000000  1733.150024  1846.949951  1846.949951   \n",
              "\n",
              "              Volume  \n",
              "Date                  \n",
              "2020-01-01   1553127  \n",
              "2020-01-02   2991937  \n",
              "2020-01-03   2512421  \n",
              "2020-01-06   4353179  \n",
              "2020-01-07   2966120  \n",
              "...              ...  \n",
              "2023-02-06  19308603  \n",
              "2023-02-07  19188072  \n",
              "2023-02-08  19173006  \n",
              "2023-02-09  18279862  \n",
              "2023-02-10  11334878  \n",
              "\n",
              "[776 rows x 6 columns]"
            ],
            "text/html": [
              "\n",
              "  <div id=\"df-c1b170f1-3974-4b11-a7b1-7e7cf98fee40\">\n",
              "    <div class=\"colab-df-container\">\n",
              "      <div>\n",
              "<style scoped>\n",
              "    .dataframe tbody tr th:only-of-type {\n",
              "        vertical-align: middle;\n",
              "    }\n",
              "\n",
              "    .dataframe tbody tr th {\n",
              "        vertical-align: top;\n",
              "    }\n",
              "\n",
              "    .dataframe thead th {\n",
              "        text-align: right;\n",
              "    }\n",
              "</style>\n",
              "<table border=\"1\" class=\"dataframe\">\n",
              "  <thead>\n",
              "    <tr style=\"text-align: right;\">\n",
              "      <th></th>\n",
              "      <th>Open</th>\n",
              "      <th>High</th>\n",
              "      <th>Low</th>\n",
              "      <th>Close</th>\n",
              "      <th>Adj Close</th>\n",
              "      <th>Volume</th>\n",
              "    </tr>\n",
              "    <tr>\n",
              "      <th>Date</th>\n",
              "      <th></th>\n",
              "      <th></th>\n",
              "      <th></th>\n",
              "      <th></th>\n",
              "      <th></th>\n",
              "      <th></th>\n",
              "    </tr>\n",
              "  </thead>\n",
              "  <tbody>\n",
              "    <tr>\n",
              "      <th>2020-01-01</th>\n",
              "      <td>209.000000</td>\n",
              "      <td>210.449997</td>\n",
              "      <td>206.649994</td>\n",
              "      <td>207.850006</td>\n",
              "      <td>206.116074</td>\n",
              "      <td>1553127</td>\n",
              "    </tr>\n",
              "    <tr>\n",
              "      <th>2020-01-02</th>\n",
              "      <td>208.000000</td>\n",
              "      <td>213.199997</td>\n",
              "      <td>207.500000</td>\n",
              "      <td>211.199997</td>\n",
              "      <td>209.438110</td>\n",
              "      <td>2991937</td>\n",
              "    </tr>\n",
              "    <tr>\n",
              "      <th>2020-01-03</th>\n",
              "      <td>210.250000</td>\n",
              "      <td>212.350006</td>\n",
              "      <td>205.800003</td>\n",
              "      <td>208.300003</td>\n",
              "      <td>206.562302</td>\n",
              "      <td>2512421</td>\n",
              "    </tr>\n",
              "    <tr>\n",
              "      <th>2020-01-06</th>\n",
              "      <td>207.750000</td>\n",
              "      <td>207.750000</td>\n",
              "      <td>197.750000</td>\n",
              "      <td>199.550003</td>\n",
              "      <td>197.885300</td>\n",
              "      <td>4353179</td>\n",
              "    </tr>\n",
              "    <tr>\n",
              "      <th>2020-01-07</th>\n",
              "      <td>200.550003</td>\n",
              "      <td>205.699997</td>\n",
              "      <td>200.550003</td>\n",
              "      <td>204.050003</td>\n",
              "      <td>202.347778</td>\n",
              "      <td>2966120</td>\n",
              "    </tr>\n",
              "    <tr>\n",
              "      <th>...</th>\n",
              "      <td>...</td>\n",
              "      <td>...</td>\n",
              "      <td>...</td>\n",
              "      <td>...</td>\n",
              "      <td>...</td>\n",
              "      <td>...</td>\n",
              "    </tr>\n",
              "    <tr>\n",
              "      <th>2023-02-06</th>\n",
              "      <td>1575.000000</td>\n",
              "      <td>1615.000000</td>\n",
              "      <td>1435.199951</td>\n",
              "      <td>1572.699951</td>\n",
              "      <td>1572.699951</td>\n",
              "      <td>19308603</td>\n",
              "    </tr>\n",
              "    <tr>\n",
              "      <th>2023-02-07</th>\n",
              "      <td>1571.000000</td>\n",
              "      <td>1962.699951</td>\n",
              "      <td>1525.599976</td>\n",
              "      <td>1802.949951</td>\n",
              "      <td>1802.949951</td>\n",
              "      <td>19188072</td>\n",
              "    </tr>\n",
              "    <tr>\n",
              "      <th>2023-02-08</th>\n",
              "      <td>1869.849976</td>\n",
              "      <td>2222.149902</td>\n",
              "      <td>1840.849976</td>\n",
              "      <td>2164.250000</td>\n",
              "      <td>2164.250000</td>\n",
              "      <td>19173006</td>\n",
              "    </tr>\n",
              "    <tr>\n",
              "      <th>2023-02-09</th>\n",
              "      <td>2168.000000</td>\n",
              "      <td>2168.000000</td>\n",
              "      <td>1731.400024</td>\n",
              "      <td>1925.699951</td>\n",
              "      <td>1925.699951</td>\n",
              "      <td>18279862</td>\n",
              "    </tr>\n",
              "    <tr>\n",
              "      <th>2023-02-10</th>\n",
              "      <td>1769.000000</td>\n",
              "      <td>1990.000000</td>\n",
              "      <td>1733.150024</td>\n",
              "      <td>1846.949951</td>\n",
              "      <td>1846.949951</td>\n",
              "      <td>11334878</td>\n",
              "    </tr>\n",
              "  </tbody>\n",
              "</table>\n",
              "<p>776 rows × 6 columns</p>\n",
              "</div>\n",
              "      <button class=\"colab-df-convert\" onclick=\"convertToInteractive('df-c1b170f1-3974-4b11-a7b1-7e7cf98fee40')\"\n",
              "              title=\"Convert this dataframe to an interactive table.\"\n",
              "              style=\"display:none;\">\n",
              "        \n",
              "  <svg xmlns=\"http://www.w3.org/2000/svg\" height=\"24px\"viewBox=\"0 0 24 24\"\n",
              "       width=\"24px\">\n",
              "    <path d=\"M0 0h24v24H0V0z\" fill=\"none\"/>\n",
              "    <path d=\"M18.56 5.44l.94 2.06.94-2.06 2.06-.94-2.06-.94-.94-2.06-.94 2.06-2.06.94zm-11 1L8.5 8.5l.94-2.06 2.06-.94-2.06-.94L8.5 2.5l-.94 2.06-2.06.94zm10 10l.94 2.06.94-2.06 2.06-.94-2.06-.94-.94-2.06-.94 2.06-2.06.94z\"/><path d=\"M17.41 7.96l-1.37-1.37c-.4-.4-.92-.59-1.43-.59-.52 0-1.04.2-1.43.59L10.3 9.45l-7.72 7.72c-.78.78-.78 2.05 0 2.83L4 21.41c.39.39.9.59 1.41.59.51 0 1.02-.2 1.41-.59l7.78-7.78 2.81-2.81c.8-.78.8-2.07 0-2.86zM5.41 20L4 18.59l7.72-7.72 1.47 1.35L5.41 20z\"/>\n",
              "  </svg>\n",
              "      </button>\n",
              "      \n",
              "  <style>\n",
              "    .colab-df-container {\n",
              "      display:flex;\n",
              "      flex-wrap:wrap;\n",
              "      gap: 12px;\n",
              "    }\n",
              "\n",
              "    .colab-df-convert {\n",
              "      background-color: #E8F0FE;\n",
              "      border: none;\n",
              "      border-radius: 50%;\n",
              "      cursor: pointer;\n",
              "      display: none;\n",
              "      fill: #1967D2;\n",
              "      height: 32px;\n",
              "      padding: 0 0 0 0;\n",
              "      width: 32px;\n",
              "    }\n",
              "\n",
              "    .colab-df-convert:hover {\n",
              "      background-color: #E2EBFA;\n",
              "      box-shadow: 0px 1px 2px rgba(60, 64, 67, 0.3), 0px 1px 3px 1px rgba(60, 64, 67, 0.15);\n",
              "      fill: #174EA6;\n",
              "    }\n",
              "\n",
              "    [theme=dark] .colab-df-convert {\n",
              "      background-color: #3B4455;\n",
              "      fill: #D2E3FC;\n",
              "    }\n",
              "\n",
              "    [theme=dark] .colab-df-convert:hover {\n",
              "      background-color: #434B5C;\n",
              "      box-shadow: 0px 1px 3px 1px rgba(0, 0, 0, 0.15);\n",
              "      filter: drop-shadow(0px 1px 2px rgba(0, 0, 0, 0.3));\n",
              "      fill: #FFFFFF;\n",
              "    }\n",
              "  </style>\n",
              "\n",
              "      <script>\n",
              "        const buttonEl =\n",
              "          document.querySelector('#df-c1b170f1-3974-4b11-a7b1-7e7cf98fee40 button.colab-df-convert');\n",
              "        buttonEl.style.display =\n",
              "          google.colab.kernel.accessAllowed ? 'block' : 'none';\n",
              "\n",
              "        async function convertToInteractive(key) {\n",
              "          const element = document.querySelector('#df-c1b170f1-3974-4b11-a7b1-7e7cf98fee40');\n",
              "          const dataTable =\n",
              "            await google.colab.kernel.invokeFunction('convertToInteractive',\n",
              "                                                     [key], {});\n",
              "          if (!dataTable) return;\n",
              "\n",
              "          const docLinkHtml = 'Like what you see? Visit the ' +\n",
              "            '<a target=\"_blank\" href=https://colab.research.google.com/notebooks/data_table.ipynb>data table notebook</a>'\n",
              "            + ' to learn more about interactive tables.';\n",
              "          element.innerHTML = '';\n",
              "          dataTable['output_type'] = 'display_data';\n",
              "          await google.colab.output.renderOutput(dataTable, element);\n",
              "          const docLink = document.createElement('div');\n",
              "          docLink.innerHTML = docLinkHtml;\n",
              "          element.appendChild(docLink);\n",
              "        }\n",
              "      </script>\n",
              "    </div>\n",
              "  </div>\n",
              "  "
            ]
          },
          "metadata": {},
          "execution_count": 5
        }
      ]
    },
    {
      "cell_type": "code",
      "source": [
        "df = df.round(2)"
      ],
      "metadata": {
        "id": "OG22B1KRjWWk"
      },
      "execution_count": 6,
      "outputs": []
    },
    {
      "cell_type": "code",
      "source": [
        "df.head(3)"
      ],
      "metadata": {
        "colab": {
          "base_uri": "https://localhost:8080/",
          "height": 175
        },
        "id": "zK9jhzlijdn8",
        "outputId": "d3c5f31c-29ec-49b7-9442-58171b134636"
      },
      "execution_count": 8,
      "outputs": [
        {
          "output_type": "execute_result",
          "data": {
            "text/plain": [
              "              Open    High     Low   Close  Adj Close   Volume\n",
              "Date                                                          \n",
              "2020-01-01  209.00  210.45  206.65  207.85     206.12  1553127\n",
              "2020-01-02  208.00  213.20  207.50  211.20     209.44  2991937\n",
              "2020-01-03  210.25  212.35  205.80  208.30     206.56  2512421"
            ],
            "text/html": [
              "\n",
              "  <div id=\"df-39133b6d-3547-40a0-9b12-26d4e10f6491\">\n",
              "    <div class=\"colab-df-container\">\n",
              "      <div>\n",
              "<style scoped>\n",
              "    .dataframe tbody tr th:only-of-type {\n",
              "        vertical-align: middle;\n",
              "    }\n",
              "\n",
              "    .dataframe tbody tr th {\n",
              "        vertical-align: top;\n",
              "    }\n",
              "\n",
              "    .dataframe thead th {\n",
              "        text-align: right;\n",
              "    }\n",
              "</style>\n",
              "<table border=\"1\" class=\"dataframe\">\n",
              "  <thead>\n",
              "    <tr style=\"text-align: right;\">\n",
              "      <th></th>\n",
              "      <th>Open</th>\n",
              "      <th>High</th>\n",
              "      <th>Low</th>\n",
              "      <th>Close</th>\n",
              "      <th>Adj Close</th>\n",
              "      <th>Volume</th>\n",
              "    </tr>\n",
              "    <tr>\n",
              "      <th>Date</th>\n",
              "      <th></th>\n",
              "      <th></th>\n",
              "      <th></th>\n",
              "      <th></th>\n",
              "      <th></th>\n",
              "      <th></th>\n",
              "    </tr>\n",
              "  </thead>\n",
              "  <tbody>\n",
              "    <tr>\n",
              "      <th>2020-01-01</th>\n",
              "      <td>209.00</td>\n",
              "      <td>210.45</td>\n",
              "      <td>206.65</td>\n",
              "      <td>207.85</td>\n",
              "      <td>206.12</td>\n",
              "      <td>1553127</td>\n",
              "    </tr>\n",
              "    <tr>\n",
              "      <th>2020-01-02</th>\n",
              "      <td>208.00</td>\n",
              "      <td>213.20</td>\n",
              "      <td>207.50</td>\n",
              "      <td>211.20</td>\n",
              "      <td>209.44</td>\n",
              "      <td>2991937</td>\n",
              "    </tr>\n",
              "    <tr>\n",
              "      <th>2020-01-03</th>\n",
              "      <td>210.25</td>\n",
              "      <td>212.35</td>\n",
              "      <td>205.80</td>\n",
              "      <td>208.30</td>\n",
              "      <td>206.56</td>\n",
              "      <td>2512421</td>\n",
              "    </tr>\n",
              "  </tbody>\n",
              "</table>\n",
              "</div>\n",
              "      <button class=\"colab-df-convert\" onclick=\"convertToInteractive('df-39133b6d-3547-40a0-9b12-26d4e10f6491')\"\n",
              "              title=\"Convert this dataframe to an interactive table.\"\n",
              "              style=\"display:none;\">\n",
              "        \n",
              "  <svg xmlns=\"http://www.w3.org/2000/svg\" height=\"24px\"viewBox=\"0 0 24 24\"\n",
              "       width=\"24px\">\n",
              "    <path d=\"M0 0h24v24H0V0z\" fill=\"none\"/>\n",
              "    <path d=\"M18.56 5.44l.94 2.06.94-2.06 2.06-.94-2.06-.94-.94-2.06-.94 2.06-2.06.94zm-11 1L8.5 8.5l.94-2.06 2.06-.94-2.06-.94L8.5 2.5l-.94 2.06-2.06.94zm10 10l.94 2.06.94-2.06 2.06-.94-2.06-.94-.94-2.06-.94 2.06-2.06.94z\"/><path d=\"M17.41 7.96l-1.37-1.37c-.4-.4-.92-.59-1.43-.59-.52 0-1.04.2-1.43.59L10.3 9.45l-7.72 7.72c-.78.78-.78 2.05 0 2.83L4 21.41c.39.39.9.59 1.41.59.51 0 1.02-.2 1.41-.59l7.78-7.78 2.81-2.81c.8-.78.8-2.07 0-2.86zM5.41 20L4 18.59l7.72-7.72 1.47 1.35L5.41 20z\"/>\n",
              "  </svg>\n",
              "      </button>\n",
              "      \n",
              "  <style>\n",
              "    .colab-df-container {\n",
              "      display:flex;\n",
              "      flex-wrap:wrap;\n",
              "      gap: 12px;\n",
              "    }\n",
              "\n",
              "    .colab-df-convert {\n",
              "      background-color: #E8F0FE;\n",
              "      border: none;\n",
              "      border-radius: 50%;\n",
              "      cursor: pointer;\n",
              "      display: none;\n",
              "      fill: #1967D2;\n",
              "      height: 32px;\n",
              "      padding: 0 0 0 0;\n",
              "      width: 32px;\n",
              "    }\n",
              "\n",
              "    .colab-df-convert:hover {\n",
              "      background-color: #E2EBFA;\n",
              "      box-shadow: 0px 1px 2px rgba(60, 64, 67, 0.3), 0px 1px 3px 1px rgba(60, 64, 67, 0.15);\n",
              "      fill: #174EA6;\n",
              "    }\n",
              "\n",
              "    [theme=dark] .colab-df-convert {\n",
              "      background-color: #3B4455;\n",
              "      fill: #D2E3FC;\n",
              "    }\n",
              "\n",
              "    [theme=dark] .colab-df-convert:hover {\n",
              "      background-color: #434B5C;\n",
              "      box-shadow: 0px 1px 3px 1px rgba(0, 0, 0, 0.15);\n",
              "      filter: drop-shadow(0px 1px 2px rgba(0, 0, 0, 0.3));\n",
              "      fill: #FFFFFF;\n",
              "    }\n",
              "  </style>\n",
              "\n",
              "      <script>\n",
              "        const buttonEl =\n",
              "          document.querySelector('#df-39133b6d-3547-40a0-9b12-26d4e10f6491 button.colab-df-convert');\n",
              "        buttonEl.style.display =\n",
              "          google.colab.kernel.accessAllowed ? 'block' : 'none';\n",
              "\n",
              "        async function convertToInteractive(key) {\n",
              "          const element = document.querySelector('#df-39133b6d-3547-40a0-9b12-26d4e10f6491');\n",
              "          const dataTable =\n",
              "            await google.colab.kernel.invokeFunction('convertToInteractive',\n",
              "                                                     [key], {});\n",
              "          if (!dataTable) return;\n",
              "\n",
              "          const docLinkHtml = 'Like what you see? Visit the ' +\n",
              "            '<a target=\"_blank\" href=https://colab.research.google.com/notebooks/data_table.ipynb>data table notebook</a>'\n",
              "            + ' to learn more about interactive tables.';\n",
              "          element.innerHTML = '';\n",
              "          dataTable['output_type'] = 'display_data';\n",
              "          await google.colab.output.renderOutput(dataTable, element);\n",
              "          const docLink = document.createElement('div');\n",
              "          docLink.innerHTML = docLinkHtml;\n",
              "          element.appendChild(docLink);\n",
              "        }\n",
              "      </script>\n",
              "    </div>\n",
              "  </div>\n",
              "  "
            ]
          },
          "metadata": {},
          "execution_count": 8
        }
      ]
    },
    {
      "cell_type": "code",
      "source": [
        "df.tail()"
      ],
      "metadata": {
        "colab": {
          "base_uri": "https://localhost:8080/",
          "height": 238
        },
        "id": "3dHQ1ebCjlqj",
        "outputId": "5bb25ba7-76b5-46ff-a2c4-180b54c2b32a"
      },
      "execution_count": 9,
      "outputs": [
        {
          "output_type": "execute_result",
          "data": {
            "text/plain": [
              "               Open     High      Low    Close  Adj Close    Volume\n",
              "Date                                                               \n",
              "2023-02-06  1575.00  1615.00  1435.20  1572.70    1572.70  19308603\n",
              "2023-02-07  1571.00  1962.70  1525.60  1802.95    1802.95  19188072\n",
              "2023-02-08  1869.85  2222.15  1840.85  2164.25    2164.25  19173006\n",
              "2023-02-09  2168.00  2168.00  1731.40  1925.70    1925.70  18279862\n",
              "2023-02-10  1769.00  1990.00  1733.15  1846.95    1846.95  11334878"
            ],
            "text/html": [
              "\n",
              "  <div id=\"df-ca0d8147-3cc1-4346-985b-3152ad33f22b\">\n",
              "    <div class=\"colab-df-container\">\n",
              "      <div>\n",
              "<style scoped>\n",
              "    .dataframe tbody tr th:only-of-type {\n",
              "        vertical-align: middle;\n",
              "    }\n",
              "\n",
              "    .dataframe tbody tr th {\n",
              "        vertical-align: top;\n",
              "    }\n",
              "\n",
              "    .dataframe thead th {\n",
              "        text-align: right;\n",
              "    }\n",
              "</style>\n",
              "<table border=\"1\" class=\"dataframe\">\n",
              "  <thead>\n",
              "    <tr style=\"text-align: right;\">\n",
              "      <th></th>\n",
              "      <th>Open</th>\n",
              "      <th>High</th>\n",
              "      <th>Low</th>\n",
              "      <th>Close</th>\n",
              "      <th>Adj Close</th>\n",
              "      <th>Volume</th>\n",
              "    </tr>\n",
              "    <tr>\n",
              "      <th>Date</th>\n",
              "      <th></th>\n",
              "      <th></th>\n",
              "      <th></th>\n",
              "      <th></th>\n",
              "      <th></th>\n",
              "      <th></th>\n",
              "    </tr>\n",
              "  </thead>\n",
              "  <tbody>\n",
              "    <tr>\n",
              "      <th>2023-02-06</th>\n",
              "      <td>1575.00</td>\n",
              "      <td>1615.00</td>\n",
              "      <td>1435.20</td>\n",
              "      <td>1572.70</td>\n",
              "      <td>1572.70</td>\n",
              "      <td>19308603</td>\n",
              "    </tr>\n",
              "    <tr>\n",
              "      <th>2023-02-07</th>\n",
              "      <td>1571.00</td>\n",
              "      <td>1962.70</td>\n",
              "      <td>1525.60</td>\n",
              "      <td>1802.95</td>\n",
              "      <td>1802.95</td>\n",
              "      <td>19188072</td>\n",
              "    </tr>\n",
              "    <tr>\n",
              "      <th>2023-02-08</th>\n",
              "      <td>1869.85</td>\n",
              "      <td>2222.15</td>\n",
              "      <td>1840.85</td>\n",
              "      <td>2164.25</td>\n",
              "      <td>2164.25</td>\n",
              "      <td>19173006</td>\n",
              "    </tr>\n",
              "    <tr>\n",
              "      <th>2023-02-09</th>\n",
              "      <td>2168.00</td>\n",
              "      <td>2168.00</td>\n",
              "      <td>1731.40</td>\n",
              "      <td>1925.70</td>\n",
              "      <td>1925.70</td>\n",
              "      <td>18279862</td>\n",
              "    </tr>\n",
              "    <tr>\n",
              "      <th>2023-02-10</th>\n",
              "      <td>1769.00</td>\n",
              "      <td>1990.00</td>\n",
              "      <td>1733.15</td>\n",
              "      <td>1846.95</td>\n",
              "      <td>1846.95</td>\n",
              "      <td>11334878</td>\n",
              "    </tr>\n",
              "  </tbody>\n",
              "</table>\n",
              "</div>\n",
              "      <button class=\"colab-df-convert\" onclick=\"convertToInteractive('df-ca0d8147-3cc1-4346-985b-3152ad33f22b')\"\n",
              "              title=\"Convert this dataframe to an interactive table.\"\n",
              "              style=\"display:none;\">\n",
              "        \n",
              "  <svg xmlns=\"http://www.w3.org/2000/svg\" height=\"24px\"viewBox=\"0 0 24 24\"\n",
              "       width=\"24px\">\n",
              "    <path d=\"M0 0h24v24H0V0z\" fill=\"none\"/>\n",
              "    <path d=\"M18.56 5.44l.94 2.06.94-2.06 2.06-.94-2.06-.94-.94-2.06-.94 2.06-2.06.94zm-11 1L8.5 8.5l.94-2.06 2.06-.94-2.06-.94L8.5 2.5l-.94 2.06-2.06.94zm10 10l.94 2.06.94-2.06 2.06-.94-2.06-.94-.94-2.06-.94 2.06-2.06.94z\"/><path d=\"M17.41 7.96l-1.37-1.37c-.4-.4-.92-.59-1.43-.59-.52 0-1.04.2-1.43.59L10.3 9.45l-7.72 7.72c-.78.78-.78 2.05 0 2.83L4 21.41c.39.39.9.59 1.41.59.51 0 1.02-.2 1.41-.59l7.78-7.78 2.81-2.81c.8-.78.8-2.07 0-2.86zM5.41 20L4 18.59l7.72-7.72 1.47 1.35L5.41 20z\"/>\n",
              "  </svg>\n",
              "      </button>\n",
              "      \n",
              "  <style>\n",
              "    .colab-df-container {\n",
              "      display:flex;\n",
              "      flex-wrap:wrap;\n",
              "      gap: 12px;\n",
              "    }\n",
              "\n",
              "    .colab-df-convert {\n",
              "      background-color: #E8F0FE;\n",
              "      border: none;\n",
              "      border-radius: 50%;\n",
              "      cursor: pointer;\n",
              "      display: none;\n",
              "      fill: #1967D2;\n",
              "      height: 32px;\n",
              "      padding: 0 0 0 0;\n",
              "      width: 32px;\n",
              "    }\n",
              "\n",
              "    .colab-df-convert:hover {\n",
              "      background-color: #E2EBFA;\n",
              "      box-shadow: 0px 1px 2px rgba(60, 64, 67, 0.3), 0px 1px 3px 1px rgba(60, 64, 67, 0.15);\n",
              "      fill: #174EA6;\n",
              "    }\n",
              "\n",
              "    [theme=dark] .colab-df-convert {\n",
              "      background-color: #3B4455;\n",
              "      fill: #D2E3FC;\n",
              "    }\n",
              "\n",
              "    [theme=dark] .colab-df-convert:hover {\n",
              "      background-color: #434B5C;\n",
              "      box-shadow: 0px 1px 3px 1px rgba(0, 0, 0, 0.15);\n",
              "      filter: drop-shadow(0px 1px 2px rgba(0, 0, 0, 0.3));\n",
              "      fill: #FFFFFF;\n",
              "    }\n",
              "  </style>\n",
              "\n",
              "      <script>\n",
              "        const buttonEl =\n",
              "          document.querySelector('#df-ca0d8147-3cc1-4346-985b-3152ad33f22b button.colab-df-convert');\n",
              "        buttonEl.style.display =\n",
              "          google.colab.kernel.accessAllowed ? 'block' : 'none';\n",
              "\n",
              "        async function convertToInteractive(key) {\n",
              "          const element = document.querySelector('#df-ca0d8147-3cc1-4346-985b-3152ad33f22b');\n",
              "          const dataTable =\n",
              "            await google.colab.kernel.invokeFunction('convertToInteractive',\n",
              "                                                     [key], {});\n",
              "          if (!dataTable) return;\n",
              "\n",
              "          const docLinkHtml = 'Like what you see? Visit the ' +\n",
              "            '<a target=\"_blank\" href=https://colab.research.google.com/notebooks/data_table.ipynb>data table notebook</a>'\n",
              "            + ' to learn more about interactive tables.';\n",
              "          element.innerHTML = '';\n",
              "          dataTable['output_type'] = 'display_data';\n",
              "          await google.colab.output.renderOutput(dataTable, element);\n",
              "          const docLink = document.createElement('div');\n",
              "          docLink.innerHTML = docLinkHtml;\n",
              "          element.appendChild(docLink);\n",
              "        }\n",
              "      </script>\n",
              "    </div>\n",
              "  </div>\n",
              "  "
            ]
          },
          "metadata": {},
          "execution_count": 9
        }
      ]
    },
    {
      "cell_type": "code",
      "source": [
        "df.columns"
      ],
      "metadata": {
        "colab": {
          "base_uri": "https://localhost:8080/"
        },
        "id": "4hLRScGRjoXT",
        "outputId": "582d20d5-fe53-43c4-bc29-bf4886af7d66"
      },
      "execution_count": 10,
      "outputs": [
        {
          "output_type": "execute_result",
          "data": {
            "text/plain": [
              "Index(['Open', 'High', 'Low', 'Close', 'Adj Close', 'Volume'], dtype='object')"
            ]
          },
          "metadata": {},
          "execution_count": 10
        }
      ]
    },
    {
      "cell_type": "code",
      "source": [
        "df.dtypes"
      ],
      "metadata": {
        "colab": {
          "base_uri": "https://localhost:8080/"
        },
        "id": "ceF_lmTUjqUL",
        "outputId": "e41c453b-cf64-49e2-abff-5b7e3f92e65c"
      },
      "execution_count": 11,
      "outputs": [
        {
          "output_type": "execute_result",
          "data": {
            "text/plain": [
              "Open         float64\n",
              "High         float64\n",
              "Low          float64\n",
              "Close        float64\n",
              "Adj Close    float64\n",
              "Volume         int64\n",
              "dtype: object"
            ]
          },
          "metadata": {},
          "execution_count": 11
        }
      ]
    },
    {
      "cell_type": "code",
      "source": [
        "df.duplicated().sum()                              #To Check Duplicated Value"
      ],
      "metadata": {
        "colab": {
          "base_uri": "https://localhost:8080/"
        },
        "id": "N_Qy3SACjuP7",
        "outputId": "80b47739-7f94-464d-ed09-3cc172805a55"
      },
      "execution_count": 12,
      "outputs": [
        {
          "output_type": "execute_result",
          "data": {
            "text/plain": [
              "0"
            ]
          },
          "metadata": {},
          "execution_count": 12
        }
      ]
    },
    {
      "cell_type": "code",
      "source": [
        "df.isnull().sum()                                  #To Check Null Value"
      ],
      "metadata": {
        "colab": {
          "base_uri": "https://localhost:8080/"
        },
        "id": "rWONiuHEjzNj",
        "outputId": "a76e076e-ad94-4f25-be91-ebd44fdd589e"
      },
      "execution_count": 13,
      "outputs": [
        {
          "output_type": "execute_result",
          "data": {
            "text/plain": [
              "Open         0\n",
              "High         0\n",
              "Low          0\n",
              "Close        0\n",
              "Adj Close    0\n",
              "Volume       0\n",
              "dtype: int64"
            ]
          },
          "metadata": {},
          "execution_count": 13
        }
      ]
    },
    {
      "cell_type": "code",
      "source": [
        "df.info()"
      ],
      "metadata": {
        "colab": {
          "base_uri": "https://localhost:8080/"
        },
        "id": "J_6A6nCSj2Wb",
        "outputId": "e5c2d232-53a3-45af-872a-dbb5d88a4899"
      },
      "execution_count": 14,
      "outputs": [
        {
          "output_type": "stream",
          "name": "stdout",
          "text": [
            "<class 'pandas.core.frame.DataFrame'>\n",
            "DatetimeIndex: 776 entries, 2020-01-01 to 2023-02-10\n",
            "Data columns (total 6 columns):\n",
            " #   Column     Non-Null Count  Dtype  \n",
            "---  ------     --------------  -----  \n",
            " 0   Open       776 non-null    float64\n",
            " 1   High       776 non-null    float64\n",
            " 2   Low        776 non-null    float64\n",
            " 3   Close      776 non-null    float64\n",
            " 4   Adj Close  776 non-null    float64\n",
            " 5   Volume     776 non-null    int64  \n",
            "dtypes: float64(5), int64(1)\n",
            "memory usage: 42.4 KB\n"
          ]
        }
      ]
    },
    {
      "cell_type": "code",
      "source": [
        "df.shape"
      ],
      "metadata": {
        "colab": {
          "base_uri": "https://localhost:8080/"
        },
        "id": "23j5Qjt4kCni",
        "outputId": "c05b5adf-2716-4ebe-e64e-e7646f251412"
      },
      "execution_count": 15,
      "outputs": [
        {
          "output_type": "execute_result",
          "data": {
            "text/plain": [
              "(776, 6)"
            ]
          },
          "metadata": {},
          "execution_count": 15
        }
      ]
    },
    {
      "cell_type": "markdown",
      "source": [
        "Basic statistic of the  Data Frame"
      ],
      "metadata": {
        "id": "QDYJy4OekIXB"
      }
    },
    {
      "cell_type": "code",
      "source": [
        "df.describe()"
      ],
      "metadata": {
        "colab": {
          "base_uri": "https://localhost:8080/",
          "height": 301
        },
        "id": "xROLHKjRkFHi",
        "outputId": "9240d50b-0358-4a2d-e843-7743694bdfe5"
      },
      "execution_count": 16,
      "outputs": [
        {
          "output_type": "execute_result",
          "data": {
            "text/plain": [
              "              Open         High          Low        Close    Adj Close  \\\n",
              "count   776.000000   776.000000   776.000000   776.000000   776.000000   \n",
              "mean   1457.520941  1484.426740  1427.072358  1456.515851  1455.890941   \n",
              "std    1157.218274  1172.336313  1135.864261  1154.038099  1154.213288   \n",
              "min     121.000000   129.800000   116.400000   120.900000   120.770000   \n",
              "25%     312.587500   319.112500   307.012500   312.750000   312.410000   \n",
              "50%    1443.925000  1474.375000  1415.175000  1442.225000  1441.615000   \n",
              "75%    2136.037500  2176.250000  2076.287500  2111.450000  2110.550000   \n",
              "max    4175.000000  4190.000000  4066.400000  4165.300000  4165.300000   \n",
              "\n",
              "             Volume  \n",
              "count  7.760000e+02  \n",
              "mean   4.753229e+06  \n",
              "std    5.389994e+06  \n",
              "min    2.482490e+05  \n",
              "25%    1.714098e+06  \n",
              "50%    3.077650e+06  \n",
              "75%    5.361654e+06  \n",
              "max    4.926454e+07  "
            ],
            "text/html": [
              "\n",
              "  <div id=\"df-8741537d-eb66-4f1a-a047-6f4f651e94da\">\n",
              "    <div class=\"colab-df-container\">\n",
              "      <div>\n",
              "<style scoped>\n",
              "    .dataframe tbody tr th:only-of-type {\n",
              "        vertical-align: middle;\n",
              "    }\n",
              "\n",
              "    .dataframe tbody tr th {\n",
              "        vertical-align: top;\n",
              "    }\n",
              "\n",
              "    .dataframe thead th {\n",
              "        text-align: right;\n",
              "    }\n",
              "</style>\n",
              "<table border=\"1\" class=\"dataframe\">\n",
              "  <thead>\n",
              "    <tr style=\"text-align: right;\">\n",
              "      <th></th>\n",
              "      <th>Open</th>\n",
              "      <th>High</th>\n",
              "      <th>Low</th>\n",
              "      <th>Close</th>\n",
              "      <th>Adj Close</th>\n",
              "      <th>Volume</th>\n",
              "    </tr>\n",
              "  </thead>\n",
              "  <tbody>\n",
              "    <tr>\n",
              "      <th>count</th>\n",
              "      <td>776.000000</td>\n",
              "      <td>776.000000</td>\n",
              "      <td>776.000000</td>\n",
              "      <td>776.000000</td>\n",
              "      <td>776.000000</td>\n",
              "      <td>7.760000e+02</td>\n",
              "    </tr>\n",
              "    <tr>\n",
              "      <th>mean</th>\n",
              "      <td>1457.520941</td>\n",
              "      <td>1484.426740</td>\n",
              "      <td>1427.072358</td>\n",
              "      <td>1456.515851</td>\n",
              "      <td>1455.890941</td>\n",
              "      <td>4.753229e+06</td>\n",
              "    </tr>\n",
              "    <tr>\n",
              "      <th>std</th>\n",
              "      <td>1157.218274</td>\n",
              "      <td>1172.336313</td>\n",
              "      <td>1135.864261</td>\n",
              "      <td>1154.038099</td>\n",
              "      <td>1154.213288</td>\n",
              "      <td>5.389994e+06</td>\n",
              "    </tr>\n",
              "    <tr>\n",
              "      <th>min</th>\n",
              "      <td>121.000000</td>\n",
              "      <td>129.800000</td>\n",
              "      <td>116.400000</td>\n",
              "      <td>120.900000</td>\n",
              "      <td>120.770000</td>\n",
              "      <td>2.482490e+05</td>\n",
              "    </tr>\n",
              "    <tr>\n",
              "      <th>25%</th>\n",
              "      <td>312.587500</td>\n",
              "      <td>319.112500</td>\n",
              "      <td>307.012500</td>\n",
              "      <td>312.750000</td>\n",
              "      <td>312.410000</td>\n",
              "      <td>1.714098e+06</td>\n",
              "    </tr>\n",
              "    <tr>\n",
              "      <th>50%</th>\n",
              "      <td>1443.925000</td>\n",
              "      <td>1474.375000</td>\n",
              "      <td>1415.175000</td>\n",
              "      <td>1442.225000</td>\n",
              "      <td>1441.615000</td>\n",
              "      <td>3.077650e+06</td>\n",
              "    </tr>\n",
              "    <tr>\n",
              "      <th>75%</th>\n",
              "      <td>2136.037500</td>\n",
              "      <td>2176.250000</td>\n",
              "      <td>2076.287500</td>\n",
              "      <td>2111.450000</td>\n",
              "      <td>2110.550000</td>\n",
              "      <td>5.361654e+06</td>\n",
              "    </tr>\n",
              "    <tr>\n",
              "      <th>max</th>\n",
              "      <td>4175.000000</td>\n",
              "      <td>4190.000000</td>\n",
              "      <td>4066.400000</td>\n",
              "      <td>4165.300000</td>\n",
              "      <td>4165.300000</td>\n",
              "      <td>4.926454e+07</td>\n",
              "    </tr>\n",
              "  </tbody>\n",
              "</table>\n",
              "</div>\n",
              "      <button class=\"colab-df-convert\" onclick=\"convertToInteractive('df-8741537d-eb66-4f1a-a047-6f4f651e94da')\"\n",
              "              title=\"Convert this dataframe to an interactive table.\"\n",
              "              style=\"display:none;\">\n",
              "        \n",
              "  <svg xmlns=\"http://www.w3.org/2000/svg\" height=\"24px\"viewBox=\"0 0 24 24\"\n",
              "       width=\"24px\">\n",
              "    <path d=\"M0 0h24v24H0V0z\" fill=\"none\"/>\n",
              "    <path d=\"M18.56 5.44l.94 2.06.94-2.06 2.06-.94-2.06-.94-.94-2.06-.94 2.06-2.06.94zm-11 1L8.5 8.5l.94-2.06 2.06-.94-2.06-.94L8.5 2.5l-.94 2.06-2.06.94zm10 10l.94 2.06.94-2.06 2.06-.94-2.06-.94-.94-2.06-.94 2.06-2.06.94z\"/><path d=\"M17.41 7.96l-1.37-1.37c-.4-.4-.92-.59-1.43-.59-.52 0-1.04.2-1.43.59L10.3 9.45l-7.72 7.72c-.78.78-.78 2.05 0 2.83L4 21.41c.39.39.9.59 1.41.59.51 0 1.02-.2 1.41-.59l7.78-7.78 2.81-2.81c.8-.78.8-2.07 0-2.86zM5.41 20L4 18.59l7.72-7.72 1.47 1.35L5.41 20z\"/>\n",
              "  </svg>\n",
              "      </button>\n",
              "      \n",
              "  <style>\n",
              "    .colab-df-container {\n",
              "      display:flex;\n",
              "      flex-wrap:wrap;\n",
              "      gap: 12px;\n",
              "    }\n",
              "\n",
              "    .colab-df-convert {\n",
              "      background-color: #E8F0FE;\n",
              "      border: none;\n",
              "      border-radius: 50%;\n",
              "      cursor: pointer;\n",
              "      display: none;\n",
              "      fill: #1967D2;\n",
              "      height: 32px;\n",
              "      padding: 0 0 0 0;\n",
              "      width: 32px;\n",
              "    }\n",
              "\n",
              "    .colab-df-convert:hover {\n",
              "      background-color: #E2EBFA;\n",
              "      box-shadow: 0px 1px 2px rgba(60, 64, 67, 0.3), 0px 1px 3px 1px rgba(60, 64, 67, 0.15);\n",
              "      fill: #174EA6;\n",
              "    }\n",
              "\n",
              "    [theme=dark] .colab-df-convert {\n",
              "      background-color: #3B4455;\n",
              "      fill: #D2E3FC;\n",
              "    }\n",
              "\n",
              "    [theme=dark] .colab-df-convert:hover {\n",
              "      background-color: #434B5C;\n",
              "      box-shadow: 0px 1px 3px 1px rgba(0, 0, 0, 0.15);\n",
              "      filter: drop-shadow(0px 1px 2px rgba(0, 0, 0, 0.3));\n",
              "      fill: #FFFFFF;\n",
              "    }\n",
              "  </style>\n",
              "\n",
              "      <script>\n",
              "        const buttonEl =\n",
              "          document.querySelector('#df-8741537d-eb66-4f1a-a047-6f4f651e94da button.colab-df-convert');\n",
              "        buttonEl.style.display =\n",
              "          google.colab.kernel.accessAllowed ? 'block' : 'none';\n",
              "\n",
              "        async function convertToInteractive(key) {\n",
              "          const element = document.querySelector('#df-8741537d-eb66-4f1a-a047-6f4f651e94da');\n",
              "          const dataTable =\n",
              "            await google.colab.kernel.invokeFunction('convertToInteractive',\n",
              "                                                     [key], {});\n",
              "          if (!dataTable) return;\n",
              "\n",
              "          const docLinkHtml = 'Like what you see? Visit the ' +\n",
              "            '<a target=\"_blank\" href=https://colab.research.google.com/notebooks/data_table.ipynb>data table notebook</a>'\n",
              "            + ' to learn more about interactive tables.';\n",
              "          element.innerHTML = '';\n",
              "          dataTable['output_type'] = 'display_data';\n",
              "          await google.colab.output.renderOutput(dataTable, element);\n",
              "          const docLink = document.createElement('div');\n",
              "          docLink.innerHTML = docLinkHtml;\n",
              "          element.appendChild(docLink);\n",
              "        }\n",
              "      </script>\n",
              "    </div>\n",
              "  </div>\n",
              "  "
            ]
          },
          "metadata": {},
          "execution_count": 16
        }
      ]
    },
    {
      "cell_type": "code",
      "source": [
        "df.nunique"
      ],
      "metadata": {
        "colab": {
          "base_uri": "https://localhost:8080/"
        },
        "id": "uBpeiz3nkO-5",
        "outputId": "d93a530c-d3bd-4b69-8c28-345d20241472"
      },
      "execution_count": 17,
      "outputs": [
        {
          "output_type": "execute_result",
          "data": {
            "text/plain": [
              "<bound method DataFrame.nunique of                Open     High      Low    Close  Adj Close    Volume\n",
              "Date                                                               \n",
              "2020-01-01   209.00   210.45   206.65   207.85     206.12   1553127\n",
              "2020-01-02   208.00   213.20   207.50   211.20     209.44   2991937\n",
              "2020-01-03   210.25   212.35   205.80   208.30     206.56   2512421\n",
              "2020-01-06   207.75   207.75   197.75   199.55     197.89   4353179\n",
              "2020-01-07   200.55   205.70   200.55   204.05     202.35   2966120\n",
              "...             ...      ...      ...      ...        ...       ...\n",
              "2023-02-06  1575.00  1615.00  1435.20  1572.70    1572.70  19308603\n",
              "2023-02-07  1571.00  1962.70  1525.60  1802.95    1802.95  19188072\n",
              "2023-02-08  1869.85  2222.15  1840.85  2164.25    2164.25  19173006\n",
              "2023-02-09  2168.00  2168.00  1731.40  1925.70    1925.70  18279862\n",
              "2023-02-10  1769.00  1990.00  1733.15  1846.95    1846.95  11334878\n",
              "\n",
              "[776 rows x 6 columns]>"
            ]
          },
          "metadata": {},
          "execution_count": 17
        }
      ]
    },
    {
      "cell_type": "code",
      "source": [
        "df['Date'] = df.index"
      ],
      "metadata": {
        "id": "yxLWlmYrkmH4"
      },
      "execution_count": 18,
      "outputs": []
    },
    {
      "cell_type": "code",
      "source": [
        "df"
      ],
      "metadata": {
        "colab": {
          "base_uri": "https://localhost:8080/",
          "height": 455
        },
        "id": "YWhFy5Wckv8O",
        "outputId": "f3b45a63-085e-4049-e8b7-027d0df9eee6"
      },
      "execution_count": 19,
      "outputs": [
        {
          "output_type": "execute_result",
          "data": {
            "text/plain": [
              "               Open     High      Low    Close  Adj Close    Volume       Date\n",
              "Date                                                                          \n",
              "2020-01-01   209.00   210.45   206.65   207.85     206.12   1553127 2020-01-01\n",
              "2020-01-02   208.00   213.20   207.50   211.20     209.44   2991937 2020-01-02\n",
              "2020-01-03   210.25   212.35   205.80   208.30     206.56   2512421 2020-01-03\n",
              "2020-01-06   207.75   207.75   197.75   199.55     197.89   4353179 2020-01-06\n",
              "2020-01-07   200.55   205.70   200.55   204.05     202.35   2966120 2020-01-07\n",
              "...             ...      ...      ...      ...        ...       ...        ...\n",
              "2023-02-06  1575.00  1615.00  1435.20  1572.70    1572.70  19308603 2023-02-06\n",
              "2023-02-07  1571.00  1962.70  1525.60  1802.95    1802.95  19188072 2023-02-07\n",
              "2023-02-08  1869.85  2222.15  1840.85  2164.25    2164.25  19173006 2023-02-08\n",
              "2023-02-09  2168.00  2168.00  1731.40  1925.70    1925.70  18279862 2023-02-09\n",
              "2023-02-10  1769.00  1990.00  1733.15  1846.95    1846.95  11334878 2023-02-10\n",
              "\n",
              "[776 rows x 7 columns]"
            ],
            "text/html": [
              "\n",
              "  <div id=\"df-90a6c3e6-3dcc-4a64-b966-a52dd21e3759\">\n",
              "    <div class=\"colab-df-container\">\n",
              "      <div>\n",
              "<style scoped>\n",
              "    .dataframe tbody tr th:only-of-type {\n",
              "        vertical-align: middle;\n",
              "    }\n",
              "\n",
              "    .dataframe tbody tr th {\n",
              "        vertical-align: top;\n",
              "    }\n",
              "\n",
              "    .dataframe thead th {\n",
              "        text-align: right;\n",
              "    }\n",
              "</style>\n",
              "<table border=\"1\" class=\"dataframe\">\n",
              "  <thead>\n",
              "    <tr style=\"text-align: right;\">\n",
              "      <th></th>\n",
              "      <th>Open</th>\n",
              "      <th>High</th>\n",
              "      <th>Low</th>\n",
              "      <th>Close</th>\n",
              "      <th>Adj Close</th>\n",
              "      <th>Volume</th>\n",
              "      <th>Date</th>\n",
              "    </tr>\n",
              "    <tr>\n",
              "      <th>Date</th>\n",
              "      <th></th>\n",
              "      <th></th>\n",
              "      <th></th>\n",
              "      <th></th>\n",
              "      <th></th>\n",
              "      <th></th>\n",
              "      <th></th>\n",
              "    </tr>\n",
              "  </thead>\n",
              "  <tbody>\n",
              "    <tr>\n",
              "      <th>2020-01-01</th>\n",
              "      <td>209.00</td>\n",
              "      <td>210.45</td>\n",
              "      <td>206.65</td>\n",
              "      <td>207.85</td>\n",
              "      <td>206.12</td>\n",
              "      <td>1553127</td>\n",
              "      <td>2020-01-01</td>\n",
              "    </tr>\n",
              "    <tr>\n",
              "      <th>2020-01-02</th>\n",
              "      <td>208.00</td>\n",
              "      <td>213.20</td>\n",
              "      <td>207.50</td>\n",
              "      <td>211.20</td>\n",
              "      <td>209.44</td>\n",
              "      <td>2991937</td>\n",
              "      <td>2020-01-02</td>\n",
              "    </tr>\n",
              "    <tr>\n",
              "      <th>2020-01-03</th>\n",
              "      <td>210.25</td>\n",
              "      <td>212.35</td>\n",
              "      <td>205.80</td>\n",
              "      <td>208.30</td>\n",
              "      <td>206.56</td>\n",
              "      <td>2512421</td>\n",
              "      <td>2020-01-03</td>\n",
              "    </tr>\n",
              "    <tr>\n",
              "      <th>2020-01-06</th>\n",
              "      <td>207.75</td>\n",
              "      <td>207.75</td>\n",
              "      <td>197.75</td>\n",
              "      <td>199.55</td>\n",
              "      <td>197.89</td>\n",
              "      <td>4353179</td>\n",
              "      <td>2020-01-06</td>\n",
              "    </tr>\n",
              "    <tr>\n",
              "      <th>2020-01-07</th>\n",
              "      <td>200.55</td>\n",
              "      <td>205.70</td>\n",
              "      <td>200.55</td>\n",
              "      <td>204.05</td>\n",
              "      <td>202.35</td>\n",
              "      <td>2966120</td>\n",
              "      <td>2020-01-07</td>\n",
              "    </tr>\n",
              "    <tr>\n",
              "      <th>...</th>\n",
              "      <td>...</td>\n",
              "      <td>...</td>\n",
              "      <td>...</td>\n",
              "      <td>...</td>\n",
              "      <td>...</td>\n",
              "      <td>...</td>\n",
              "      <td>...</td>\n",
              "    </tr>\n",
              "    <tr>\n",
              "      <th>2023-02-06</th>\n",
              "      <td>1575.00</td>\n",
              "      <td>1615.00</td>\n",
              "      <td>1435.20</td>\n",
              "      <td>1572.70</td>\n",
              "      <td>1572.70</td>\n",
              "      <td>19308603</td>\n",
              "      <td>2023-02-06</td>\n",
              "    </tr>\n",
              "    <tr>\n",
              "      <th>2023-02-07</th>\n",
              "      <td>1571.00</td>\n",
              "      <td>1962.70</td>\n",
              "      <td>1525.60</td>\n",
              "      <td>1802.95</td>\n",
              "      <td>1802.95</td>\n",
              "      <td>19188072</td>\n",
              "      <td>2023-02-07</td>\n",
              "    </tr>\n",
              "    <tr>\n",
              "      <th>2023-02-08</th>\n",
              "      <td>1869.85</td>\n",
              "      <td>2222.15</td>\n",
              "      <td>1840.85</td>\n",
              "      <td>2164.25</td>\n",
              "      <td>2164.25</td>\n",
              "      <td>19173006</td>\n",
              "      <td>2023-02-08</td>\n",
              "    </tr>\n",
              "    <tr>\n",
              "      <th>2023-02-09</th>\n",
              "      <td>2168.00</td>\n",
              "      <td>2168.00</td>\n",
              "      <td>1731.40</td>\n",
              "      <td>1925.70</td>\n",
              "      <td>1925.70</td>\n",
              "      <td>18279862</td>\n",
              "      <td>2023-02-09</td>\n",
              "    </tr>\n",
              "    <tr>\n",
              "      <th>2023-02-10</th>\n",
              "      <td>1769.00</td>\n",
              "      <td>1990.00</td>\n",
              "      <td>1733.15</td>\n",
              "      <td>1846.95</td>\n",
              "      <td>1846.95</td>\n",
              "      <td>11334878</td>\n",
              "      <td>2023-02-10</td>\n",
              "    </tr>\n",
              "  </tbody>\n",
              "</table>\n",
              "<p>776 rows × 7 columns</p>\n",
              "</div>\n",
              "      <button class=\"colab-df-convert\" onclick=\"convertToInteractive('df-90a6c3e6-3dcc-4a64-b966-a52dd21e3759')\"\n",
              "              title=\"Convert this dataframe to an interactive table.\"\n",
              "              style=\"display:none;\">\n",
              "        \n",
              "  <svg xmlns=\"http://www.w3.org/2000/svg\" height=\"24px\"viewBox=\"0 0 24 24\"\n",
              "       width=\"24px\">\n",
              "    <path d=\"M0 0h24v24H0V0z\" fill=\"none\"/>\n",
              "    <path d=\"M18.56 5.44l.94 2.06.94-2.06 2.06-.94-2.06-.94-.94-2.06-.94 2.06-2.06.94zm-11 1L8.5 8.5l.94-2.06 2.06-.94-2.06-.94L8.5 2.5l-.94 2.06-2.06.94zm10 10l.94 2.06.94-2.06 2.06-.94-2.06-.94-.94-2.06-.94 2.06-2.06.94z\"/><path d=\"M17.41 7.96l-1.37-1.37c-.4-.4-.92-.59-1.43-.59-.52 0-1.04.2-1.43.59L10.3 9.45l-7.72 7.72c-.78.78-.78 2.05 0 2.83L4 21.41c.39.39.9.59 1.41.59.51 0 1.02-.2 1.41-.59l7.78-7.78 2.81-2.81c.8-.78.8-2.07 0-2.86zM5.41 20L4 18.59l7.72-7.72 1.47 1.35L5.41 20z\"/>\n",
              "  </svg>\n",
              "      </button>\n",
              "      \n",
              "  <style>\n",
              "    .colab-df-container {\n",
              "      display:flex;\n",
              "      flex-wrap:wrap;\n",
              "      gap: 12px;\n",
              "    }\n",
              "\n",
              "    .colab-df-convert {\n",
              "      background-color: #E8F0FE;\n",
              "      border: none;\n",
              "      border-radius: 50%;\n",
              "      cursor: pointer;\n",
              "      display: none;\n",
              "      fill: #1967D2;\n",
              "      height: 32px;\n",
              "      padding: 0 0 0 0;\n",
              "      width: 32px;\n",
              "    }\n",
              "\n",
              "    .colab-df-convert:hover {\n",
              "      background-color: #E2EBFA;\n",
              "      box-shadow: 0px 1px 2px rgba(60, 64, 67, 0.3), 0px 1px 3px 1px rgba(60, 64, 67, 0.15);\n",
              "      fill: #174EA6;\n",
              "    }\n",
              "\n",
              "    [theme=dark] .colab-df-convert {\n",
              "      background-color: #3B4455;\n",
              "      fill: #D2E3FC;\n",
              "    }\n",
              "\n",
              "    [theme=dark] .colab-df-convert:hover {\n",
              "      background-color: #434B5C;\n",
              "      box-shadow: 0px 1px 3px 1px rgba(0, 0, 0, 0.15);\n",
              "      filter: drop-shadow(0px 1px 2px rgba(0, 0, 0, 0.3));\n",
              "      fill: #FFFFFF;\n",
              "    }\n",
              "  </style>\n",
              "\n",
              "      <script>\n",
              "        const buttonEl =\n",
              "          document.querySelector('#df-90a6c3e6-3dcc-4a64-b966-a52dd21e3759 button.colab-df-convert');\n",
              "        buttonEl.style.display =\n",
              "          google.colab.kernel.accessAllowed ? 'block' : 'none';\n",
              "\n",
              "        async function convertToInteractive(key) {\n",
              "          const element = document.querySelector('#df-90a6c3e6-3dcc-4a64-b966-a52dd21e3759');\n",
              "          const dataTable =\n",
              "            await google.colab.kernel.invokeFunction('convertToInteractive',\n",
              "                                                     [key], {});\n",
              "          if (!dataTable) return;\n",
              "\n",
              "          const docLinkHtml = 'Like what you see? Visit the ' +\n",
              "            '<a target=\"_blank\" href=https://colab.research.google.com/notebooks/data_table.ipynb>data table notebook</a>'\n",
              "            + ' to learn more about interactive tables.';\n",
              "          element.innerHTML = '';\n",
              "          dataTable['output_type'] = 'display_data';\n",
              "          await google.colab.output.renderOutput(dataTable, element);\n",
              "          const docLink = document.createElement('div');\n",
              "          docLink.innerHTML = docLinkHtml;\n",
              "          element.appendChild(docLink);\n",
              "        }\n",
              "      </script>\n",
              "    </div>\n",
              "  </div>\n",
              "  "
            ]
          },
          "metadata": {},
          "execution_count": 19
        }
      ]
    },
    {
      "cell_type": "markdown",
      "source": [
        "Check rage of data as per DATE"
      ],
      "metadata": {
        "id": "8AulEDMOlGzL"
      }
    },
    {
      "cell_type": "code",
      "source": [
        "print(\"Starting date: \",df.iloc[0][-1])\n",
        "print(\"Ending date: \", df.iloc[-1][-1])\n",
        "print(\"Duration: \", df.iloc[-1][-1]-df.iloc[0][-1])"
      ],
      "metadata": {
        "colab": {
          "base_uri": "https://localhost:8080/"
        },
        "id": "zjRPH0-ykwhu",
        "outputId": "83963966-be0f-4441-9de4-df252f844e56"
      },
      "execution_count": 21,
      "outputs": [
        {
          "output_type": "stream",
          "name": "stdout",
          "text": [
            "Starting date:  2020-01-01 00:00:00\n",
            "Ending date:  2023-02-10 00:00:00\n",
            "Duration:  1136 days 00:00:00\n"
          ]
        }
      ]
    },
    {
      "cell_type": "markdown",
      "source": [
        "Monthly data"
      ],
      "metadata": {
        "id": "Af3hyVNOllD6"
      }
    },
    {
      "cell_type": "code",
      "source": [
        "monthvise= df.groupby(df['Date'].dt.strftime('%B'))[['Open','Close']].mean().sort_values(by='Close')"
      ],
      "metadata": {
        "id": "gU2AIFHMlOwG"
      },
      "execution_count": 22,
      "outputs": []
    },
    {
      "cell_type": "code",
      "source": [
        "monthvise"
      ],
      "metadata": {
        "colab": {
          "base_uri": "https://localhost:8080/",
          "height": 457
        },
        "id": "Q6bpbePWlre0",
        "outputId": "62e6278a-61eb-4689-acaf-2aab0e50920f"
      },
      "execution_count": 23,
      "outputs": [
        {
          "output_type": "execute_result",
          "data": {
            "text/plain": [
              "                  Open        Close\n",
              "Date                               \n",
              "March       951.176190   955.553175\n",
              "February   1023.341791  1009.479104\n",
              "April      1184.605357  1189.132143\n",
              "May        1235.105000  1230.002500\n",
              "June       1284.721212  1285.371212\n",
              "July       1289.846154  1291.502308\n",
              "January    1501.656548  1490.852976\n",
              "August     1508.315323  1519.850000\n",
              "October    1667.537500  1660.111667\n",
              "September  1787.856923  1786.126154\n",
              "November   1996.344262  2007.223770\n",
              "December   2026.534328  2024.473881"
            ],
            "text/html": [
              "\n",
              "  <div id=\"df-37c85bff-761e-4de2-9de4-898e8b335281\">\n",
              "    <div class=\"colab-df-container\">\n",
              "      <div>\n",
              "<style scoped>\n",
              "    .dataframe tbody tr th:only-of-type {\n",
              "        vertical-align: middle;\n",
              "    }\n",
              "\n",
              "    .dataframe tbody tr th {\n",
              "        vertical-align: top;\n",
              "    }\n",
              "\n",
              "    .dataframe thead th {\n",
              "        text-align: right;\n",
              "    }\n",
              "</style>\n",
              "<table border=\"1\" class=\"dataframe\">\n",
              "  <thead>\n",
              "    <tr style=\"text-align: right;\">\n",
              "      <th></th>\n",
              "      <th>Open</th>\n",
              "      <th>Close</th>\n",
              "    </tr>\n",
              "    <tr>\n",
              "      <th>Date</th>\n",
              "      <th></th>\n",
              "      <th></th>\n",
              "    </tr>\n",
              "  </thead>\n",
              "  <tbody>\n",
              "    <tr>\n",
              "      <th>March</th>\n",
              "      <td>951.176190</td>\n",
              "      <td>955.553175</td>\n",
              "    </tr>\n",
              "    <tr>\n",
              "      <th>February</th>\n",
              "      <td>1023.341791</td>\n",
              "      <td>1009.479104</td>\n",
              "    </tr>\n",
              "    <tr>\n",
              "      <th>April</th>\n",
              "      <td>1184.605357</td>\n",
              "      <td>1189.132143</td>\n",
              "    </tr>\n",
              "    <tr>\n",
              "      <th>May</th>\n",
              "      <td>1235.105000</td>\n",
              "      <td>1230.002500</td>\n",
              "    </tr>\n",
              "    <tr>\n",
              "      <th>June</th>\n",
              "      <td>1284.721212</td>\n",
              "      <td>1285.371212</td>\n",
              "    </tr>\n",
              "    <tr>\n",
              "      <th>July</th>\n",
              "      <td>1289.846154</td>\n",
              "      <td>1291.502308</td>\n",
              "    </tr>\n",
              "    <tr>\n",
              "      <th>January</th>\n",
              "      <td>1501.656548</td>\n",
              "      <td>1490.852976</td>\n",
              "    </tr>\n",
              "    <tr>\n",
              "      <th>August</th>\n",
              "      <td>1508.315323</td>\n",
              "      <td>1519.850000</td>\n",
              "    </tr>\n",
              "    <tr>\n",
              "      <th>October</th>\n",
              "      <td>1667.537500</td>\n",
              "      <td>1660.111667</td>\n",
              "    </tr>\n",
              "    <tr>\n",
              "      <th>September</th>\n",
              "      <td>1787.856923</td>\n",
              "      <td>1786.126154</td>\n",
              "    </tr>\n",
              "    <tr>\n",
              "      <th>November</th>\n",
              "      <td>1996.344262</td>\n",
              "      <td>2007.223770</td>\n",
              "    </tr>\n",
              "    <tr>\n",
              "      <th>December</th>\n",
              "      <td>2026.534328</td>\n",
              "      <td>2024.473881</td>\n",
              "    </tr>\n",
              "  </tbody>\n",
              "</table>\n",
              "</div>\n",
              "      <button class=\"colab-df-convert\" onclick=\"convertToInteractive('df-37c85bff-761e-4de2-9de4-898e8b335281')\"\n",
              "              title=\"Convert this dataframe to an interactive table.\"\n",
              "              style=\"display:none;\">\n",
              "        \n",
              "  <svg xmlns=\"http://www.w3.org/2000/svg\" height=\"24px\"viewBox=\"0 0 24 24\"\n",
              "       width=\"24px\">\n",
              "    <path d=\"M0 0h24v24H0V0z\" fill=\"none\"/>\n",
              "    <path d=\"M18.56 5.44l.94 2.06.94-2.06 2.06-.94-2.06-.94-.94-2.06-.94 2.06-2.06.94zm-11 1L8.5 8.5l.94-2.06 2.06-.94-2.06-.94L8.5 2.5l-.94 2.06-2.06.94zm10 10l.94 2.06.94-2.06 2.06-.94-2.06-.94-.94-2.06-.94 2.06-2.06.94z\"/><path d=\"M17.41 7.96l-1.37-1.37c-.4-.4-.92-.59-1.43-.59-.52 0-1.04.2-1.43.59L10.3 9.45l-7.72 7.72c-.78.78-.78 2.05 0 2.83L4 21.41c.39.39.9.59 1.41.59.51 0 1.02-.2 1.41-.59l7.78-7.78 2.81-2.81c.8-.78.8-2.07 0-2.86zM5.41 20L4 18.59l7.72-7.72 1.47 1.35L5.41 20z\"/>\n",
              "  </svg>\n",
              "      </button>\n",
              "      \n",
              "  <style>\n",
              "    .colab-df-container {\n",
              "      display:flex;\n",
              "      flex-wrap:wrap;\n",
              "      gap: 12px;\n",
              "    }\n",
              "\n",
              "    .colab-df-convert {\n",
              "      background-color: #E8F0FE;\n",
              "      border: none;\n",
              "      border-radius: 50%;\n",
              "      cursor: pointer;\n",
              "      display: none;\n",
              "      fill: #1967D2;\n",
              "      height: 32px;\n",
              "      padding: 0 0 0 0;\n",
              "      width: 32px;\n",
              "    }\n",
              "\n",
              "    .colab-df-convert:hover {\n",
              "      background-color: #E2EBFA;\n",
              "      box-shadow: 0px 1px 2px rgba(60, 64, 67, 0.3), 0px 1px 3px 1px rgba(60, 64, 67, 0.15);\n",
              "      fill: #174EA6;\n",
              "    }\n",
              "\n",
              "    [theme=dark] .colab-df-convert {\n",
              "      background-color: #3B4455;\n",
              "      fill: #D2E3FC;\n",
              "    }\n",
              "\n",
              "    [theme=dark] .colab-df-convert:hover {\n",
              "      background-color: #434B5C;\n",
              "      box-shadow: 0px 1px 3px 1px rgba(0, 0, 0, 0.15);\n",
              "      filter: drop-shadow(0px 1px 2px rgba(0, 0, 0, 0.3));\n",
              "      fill: #FFFFFF;\n",
              "    }\n",
              "  </style>\n",
              "\n",
              "      <script>\n",
              "        const buttonEl =\n",
              "          document.querySelector('#df-37c85bff-761e-4de2-9de4-898e8b335281 button.colab-df-convert');\n",
              "        buttonEl.style.display =\n",
              "          google.colab.kernel.accessAllowed ? 'block' : 'none';\n",
              "\n",
              "        async function convertToInteractive(key) {\n",
              "          const element = document.querySelector('#df-37c85bff-761e-4de2-9de4-898e8b335281');\n",
              "          const dataTable =\n",
              "            await google.colab.kernel.invokeFunction('convertToInteractive',\n",
              "                                                     [key], {});\n",
              "          if (!dataTable) return;\n",
              "\n",
              "          const docLinkHtml = 'Like what you see? Visit the ' +\n",
              "            '<a target=\"_blank\" href=https://colab.research.google.com/notebooks/data_table.ipynb>data table notebook</a>'\n",
              "            + ' to learn more about interactive tables.';\n",
              "          element.innerHTML = '';\n",
              "          dataTable['output_type'] = 'display_data';\n",
              "          await google.colab.output.renderOutput(dataTable, element);\n",
              "          const docLink = document.createElement('div');\n",
              "          docLink.innerHTML = docLinkHtml;\n",
              "          element.appendChild(docLink);\n",
              "        }\n",
              "      </script>\n",
              "    </div>\n",
              "  </div>\n",
              "  "
            ]
          },
          "metadata": {},
          "execution_count": 23
        }
      ]
    },
    {
      "cell_type": "code",
      "source": [
        "monthvise.plot(kind = 'bar', figsize = (20,5))\n",
        "plt.title(\"Monthwise comparision between Stock open and close price\", fontsize = 18)"
      ],
      "metadata": {
        "colab": {
          "base_uri": "https://localhost:8080/",
          "height": 415
        },
        "id": "9XoKcsEulyVM",
        "outputId": "71c17973-5625-4480-94eb-58f0d8fb5e12"
      },
      "execution_count": 31,
      "outputs": [
        {
          "output_type": "execute_result",
          "data": {
            "text/plain": [
              "Text(0.5, 1.0, 'Monthwise comparision between Stock open and close price')"
            ]
          },
          "metadata": {},
          "execution_count": 31
        },
        {
          "output_type": "display_data",
          "data": {
            "text/plain": [
              "<Figure size 1440x360 with 1 Axes>"
            ],
            "image/png": "[encoded data removed]"
          },
          "metadata": {
            "needs_background": "light"
          }
        }
      ]
    },
    {
      "cell_type": "markdown",
      "source": [
        "Minimum low price in each month"
      ],
      "metadata": {
        "id": "PizOFmfLnAYf"
      }
    },
    {
      "cell_type": "code",
      "source": [
        "df.groupby(df['Date'].dt.strftime('%B'))['Low'].min()"
      ],
      "metadata": {
        "colab": {
          "base_uri": "https://localhost:8080/"
        },
        "id": "hCcijkX4mvhI",
        "outputId": "a8698993-46df-4c17-c9b1-ce7ec8515758"
      },
      "execution_count": 34,
      "outputs": [
        {
          "output_type": "execute_result",
          "data": {
            "text/plain": [
              "Date\n",
              "April        128.00\n",
              "August       171.20\n",
              "December     395.10\n",
              "February     215.60\n",
              "January      194.55\n",
              "July         145.20\n",
              "June         141.00\n",
              "March        116.40\n",
              "May          127.30\n",
              "November     333.05\n",
              "October      296.00\n",
              "September    257.50\n",
              "Name: Low, dtype: float64"
            ]
          },
          "metadata": {},
          "execution_count": 34
        }
      ]
    },
    {
      "cell_type": "markdown",
      "source": [
        "Maximum low price in each month"
      ],
      "metadata": {
        "id": "ZkE5N3gCnnBE"
      }
    },
    {
      "cell_type": "code",
      "source": [
        "df.groupby(df['Date'].dt.strftime('%B'))['Low'].max()\n"
      ],
      "metadata": {
        "colab": {
          "base_uri": "https://localhost:8080/"
        },
        "id": "8cpMCndznmaV",
        "outputId": "9a17224f-7547-4381-e505-c91905565c92"
      },
      "execution_count": 38,
      "outputs": [
        {
          "output_type": "execute_result",
          "data": {
            "text/plain": [
              "Date\n",
              "April        2336.30\n",
              "August       3161.00\n",
              "December     4066.40\n",
              "February     1941.20\n",
              "January      3822.55\n",
              "July         2560.00\n",
              "June         2207.05\n",
              "March        1991.00\n",
              "May          2311.00\n",
              "November     4022.00\n",
              "October      3326.10\n",
              "September    3812.00\n",
              "Name: Low, dtype: float64"
            ]
          },
          "metadata": {},
          "execution_count": 38
        }
      ]
    },
    {
      "cell_type": "markdown",
      "source": [
        "Minimum high price in each month"
      ],
      "metadata": {
        "id": "dCPcu4hAoIiC"
      }
    },
    {
      "cell_type": "code",
      "source": [
        "df.groupby(df['Date'].dt.strftime('%B'))['High'].min()"
      ],
      "metadata": {
        "colab": {
          "base_uri": "https://localhost:8080/"
        },
        "id": "RjEoHqDloCok",
        "outputId": "bba863b6-072c-4d75-c7be-8760b214cac1"
      },
      "execution_count": 39,
      "outputs": [
        {
          "output_type": "execute_result",
          "data": {
            "text/plain": [
              "Date\n",
              "April        134.60\n",
              "August       178.70\n",
              "December     423.95\n",
              "February     224.65\n",
              "January      203.55\n",
              "July         150.00\n",
              "June         148.45\n",
              "March        129.80\n",
              "May          135.40\n",
              "November     344.30\n",
              "October      311.95\n",
              "September    281.25\n",
              "Name: High, dtype: float64"
            ]
          },
          "metadata": {},
          "execution_count": 39
        }
      ]
    },
    {
      "cell_type": "markdown",
      "source": [
        "Maximum high price in each month"
      ],
      "metadata": {
        "id": "RXtUq4evoUjx"
      }
    },
    {
      "cell_type": "code",
      "source": [
        " df.groupby(df['Date'].dt.strftime('%B'))['High'].max()"
      ],
      "metadata": {
        "colab": {
          "base_uri": "https://localhost:8080/"
        },
        "id": "lS2TTan3oSPz",
        "outputId": "8e4b0001-945d-4ae7-94d7-b13f872b5d84"
      },
      "execution_count": 40,
      "outputs": [
        {
          "output_type": "execute_result",
          "data": {
            "text/plain": [
              "Date\n",
              "April        2420.95\n",
              "August       3263.10\n",
              "December     4190.00\n",
              "February     3010.75\n",
              "January      3880.00\n",
              "July         2622.00\n",
              "June         2274.00\n",
              "March        2042.00\n",
              "May          2362.90\n",
              "November     4096.00\n",
              "October      3460.05\n",
              "September    3885.00\n",
              "Name: High, dtype: float64"
            ]
          },
          "metadata": {},
          "execution_count": 40
        }
      ]
    },
    {
      "cell_type": "code",
      "source": [
        "monthvise['monthvise_high']= df.groupby(df['Date'].dt.strftime('%B'))['High'].max()\n",
        "monthvise['monthvise_low']= df.groupby(df['Date'].dt.strftime('%B'))['Low'].min()"
      ],
      "metadata": {
        "id": "vqJwbBcWoWgc"
      },
      "execution_count": 41,
      "outputs": []
    },
    {
      "cell_type": "code",
      "source": [
        "monthvise[['monthvise_high', 'monthvise_low']].plot(kind = 'bar', figsize=(20,5))\n",
        "plt.title(\"Monthwise High and Low stock price\", fontsize = 18)"
      ],
      "metadata": {
        "colab": {
          "base_uri": "https://localhost:8080/",
          "height": 415
        },
        "id": "-KQn9_XDojQT",
        "outputId": "fceb137d-1310-451a-ac43-a68409fa04fe"
      },
      "execution_count": 43,
      "outputs": [
        {
          "output_type": "execute_result",
          "data": {
            "text/plain": [
              "Text(0.5, 1.0, 'Monthwise High and Low stock price')"
            ]
          },
          "metadata": {},
          "execution_count": 43
        },
        {
          "output_type": "display_data",
          "data": {
            "text/plain": [
              "<Figure size 1440x360 with 1 Axes>"
            ],
            "image/png": "[encoded data removed]"
          },
          "metadata": {
            "needs_background": "light"
          }
        }
      ]
    },
    {
      "cell_type": "code",
      "source": [
        "plt.figure(figsize=(20,5))\n",
        "sns.lineplot(data=df[['Open','High','Low','Close']])\n",
        "plt.title(\"Stock analysis chart\",fontsize=18)"
      ],
      "metadata": {
        "colab": {
          "base_uri": "https://localhost:8080/",
          "height": 371
        },
        "id": "Fs5DbNV2o265",
        "outputId": "6c133ed7-0277-4541-8c50-8ff8ba4612a7"
      },
      "execution_count": 49,
      "outputs": [
        {
          "output_type": "execute_result",
          "data": {
            "text/plain": [
              "Text(0.5, 1.0, 'Stock analysis chart')"
            ]
          },
          "metadata": {},
          "execution_count": 49
        },
        {
          "output_type": "display_data",
          "data": {
            "text/plain": [
              "<Figure size 1440x360 with 1 Axes>"
            ],
            "image/png": "[encoded data removed]"
          },
          "metadata": {
            "needs_background": "light"
          }
        }
      ]
    },
    {
      "cell_type": "code",
      "source": [
        "closedf = df[['Date','Close']]\n",
        "print(\"Shape of close dataframe:\", closedf.shape)\n"
      ],
      "metadata": {
        "colab": {
          "base_uri": "https://localhost:8080/"
        },
        "id": "Uh2rXJ3dp_Eu",
        "outputId": "338a60ba-6f52-4bbb-c991-969b5d328261"
      },
      "execution_count": 50,
      "outputs": [
        {
          "output_type": "stream",
          "name": "stdout",
          "text": [
            "Shape of close dataframe: (776, 2)\n"
          ]
        }
      ]
    },
    {
      "cell_type": "code",
      "source": [
        "plt.figure(figsize=(20,5))\n",
        "sns.lineplot(data=closedf)\n",
        "plt.title(\"Stock close price chart\",fontsize=18)\n"
      ],
      "metadata": {
        "colab": {
          "base_uri": "https://localhost:8080/",
          "height": 371
        },
        "id": "nqrQtVybrRsy",
        "outputId": "22e284b1-e24b-457b-b0ca-f5613ce32eb2"
      },
      "execution_count": 52,
      "outputs": [
        {
          "output_type": "execute_result",
          "data": {
            "text/plain": [
              "Text(0.5, 1.0, 'Stock close price chart')"
            ]
          },
          "metadata": {},
          "execution_count": 52
        },
        {
          "output_type": "display_data",
          "data": {
            "text/plain": [
              "<Figure size 1440x360 with 1 Axes>"
            ],
            "image/png": "[encoded data removed]"
          },
          "metadata": {
            "needs_background": "light"
          }
        }
      ]
    },
    {
      "cell_type": "markdown",
      "source": [
        "Evaluation Metrics\n",
        "\n",
        "---------------------------------------------------\n",
        "mean_squared_error:-\n",
        "---------------------------------------------------\n",
        "\n",
        "This is a metric that measures the average squared difference between the predicted and actual values. It is calculated as the mean of the squared differences between the predicted and actual values. This metric is useful\n",
        "for penalizing large errors in the predictions, and is commonly used as a loss function during training. However, it can be sensitive to outliers and does not provide an easily interpretable measure of error in the original\n",
        "units of the response variable.\n"
      ],
      "metadata": {
        "id": "Ia05qjqKrtlG"
      }
    },
    {
      "cell_type": "markdown",
      "source": [
        "mean_absolute_error:\n",
        "------------------------------------------------------------------------------------------------------------------------------\n",
        "This is a metric that measures the average absolute difference between the predicted and actual values. It is calculated as the mean of the absolute differences between the predicted and actual values. This metric\n",
        "provides an easily interpretable measure of error in the original units of the response variable, and is less sensitive to outliers than the mean squared error.\n"
      ],
      "metadata": {
        "id": "oJ61DAwssLfM"
      }
    },
    {
      "cell_type": "markdown",
      "source": [
        "explained_variance_score:\n",
        "----------------------------------------------------------------------------------\n",
        "This is a metric that measures the proportion of variance in the target variable that is explained by the model. It is calculated as 1 - (variance of residuals / variance of target variable). This metric provides an indication of\n",
        "how well the model fits the data and can be interpreted as the amount of information captured by the model."
      ],
      "metadata": {
        "id": "48vZz5yzsSNU"
      }
    },
    {
      "cell_type": "markdown",
      "source": [
        "r2_score:\n",
        "-----------------\n",
        "This is a metric that measures the proportion of variance in the target variable that is explained by the model, normalized by the total variance in the target variable. It is calculated as 1 - (sum of squared residuals / total\n",
        "sum of squares). This metric provides a normalized indication of how well the model fits the data, and can be interpreted as the percentage of variance in the target variable that is explained by the model. It ranges from 0\n",
        "to 1, with 1 indicating a perfect fit and values close to 0 indicating poor performance."
      ],
      "metadata": {
        "id": "hdUt8j5DsiSX"
      }
    },
    {
      "cell_type": "markdown",
      "source": [
        "mean_poisson_deviance:\n",
        "-------------------\n",
        "It is a metric that measures the goodness of fit of a Poisson regression model. It compares the predicted values of the model with the observed values and calculates the mean deviation of the predicted values from the\n",
        "observed values. A lower value of this metric indicates a better fit of the model to the data."
      ],
      "metadata": {
        "id": "LozM87pHsviC"
      }
    },
    {
      "cell_type": "markdown",
      "source": [
        "mean_gamma_deviance:\n",
        "-----\n",
        "It is a metric that measures the goodness of fit of a Gamma regression model. It compares the predicted values of the model with the observed values and calculates the mean deviation of the predicted values from the\n",
        "observed values. A lower value of this metric indicates a better fit of the model to the data.\n"
      ],
      "metadata": {
        "id": "zx4Veihws5wC"
      }
    },
    {
      "cell_type": "markdown",
      "source": [
        "accuracy_score:\n",
        "-----------\n",
        "It is a metric used to evaluate the performance of a classification model. It calculates the proportion of correctly predicted labels to the total number of samples. A higher value of this metric indicates a better classification\n",
        "performance of the model."
      ],
      "metadata": {
        "id": "G8woHm4vs-fB"
      }
    },
    {
      "cell_type": "markdown",
      "source": [
        "Scaling\n",
        "--\n",
        "MinMaxScaler:\n",
        "-----------------\n",
        "MinMaxScaler is a technique used in data preprocessing to scale and transform features or variables of a dataset to a particular range, usually between 0 and 1. This technique helps to normalize the data and make it\n",
        "more consistent, making it easier to compare and analyze the data.\n",
        "MinMaxScaler is a simple linear scaling technique that works by subtracting the minimum value of the feature and then dividing by the range (i.e., the difference between the maximum and minimum values) of the feature.\n",
        "The resulting values are then rescaled to fit within the desired range.\n",
        "\n",
        "\n",
        "MinMaxScaler is commonly used in machine learning algorithms, especially in algorithms that involve distance calculations or optimization, such as clustering, gradient descent, and neural networks. It helps to improve the\n",
        "performance of the algorithms by reducing the influence of the scale of the variables on the model.\n"
      ],
      "metadata": {
        "id": "D79iQOSStNYB"
      }
    },
    {
      "cell_type": "code",
      "source": [
        "from sklearn.metrics import mean_squared_error, mean_absolute_error, explained_variance_score, r2_score\n",
        "from sklearn.metrics import mean_poisson_deviance, mean_gamma_deviance, accuracy_score\n",
        "from sklearn.preprocessing import MinMaxScaler"
      ],
      "metadata": {
        "id": "ydoiypl4tRfK"
      },
      "execution_count": 54,
      "outputs": []
    },
    {
      "cell_type": "code",
      "source": [],
      "metadata": {
        "id": "HW_5TWF1s_ZM"
      },
      "execution_count": null,
      "outputs": []
    },
    {
      "cell_type": "code",
      "source": [],
      "metadata": {
        "id": "nNlv2fk3s6qE"
      },
      "execution_count": null,
      "outputs": []
    },
    {
      "cell_type": "code",
      "source": [],
      "metadata": {
        "id": "1Fmc6jIksw7d"
      },
      "execution_count": null,
      "outputs": []
    },
    {
      "cell_type": "code",
      "source": [],
      "metadata": {
        "id": "oPllEppAsngt"
      },
      "execution_count": null,
      "outputs": []
    },
    {
      "cell_type": "code",
      "source": [],
      "metadata": {
        "id": "-I1idtY3sjnd"
      },
      "execution_count": null,
      "outputs": []
    },
    {
      "cell_type": "code",
      "source": [],
      "metadata": {
        "id": "Ypksno7wsT2u"
      },
      "execution_count": null,
      "outputs": []
    },
    {
      "cell_type": "code",
      "source": [],
      "metadata": {
        "id": "ltVTh4Y5sLve"
      },
      "execution_count": null,
      "outputs": []
    },
    {
      "cell_type": "code",
      "source": [],
      "metadata": {
        "id": "926nJQeksJ_G"
      },
      "execution_count": null,
      "outputs": []
    },
    {
      "cell_type": "code",
      "source": [],
      "metadata": {
        "id": "Sw__doilrzdf"
      },
      "execution_count": null,
      "outputs": []
    },
    {
      "cell_type": "code",
      "source": [],
      "metadata": {
        "id": "Yo_Z0D5lruCI"
      },
      "execution_count": null,
      "outputs": []
    },
    {
      "cell_type": "markdown",
      "source": [
        "Model Creation"
      ],
      "metadata": {
        "id": "AtwjPOwWrakp"
      }
    },
    {
      "cell_type": "code",
      "source": [],
      "metadata": {
        "id": "_uaMLeN5rXjB"
      },
      "execution_count": null,
      "outputs": []
    },
    {
      "cell_type": "code",
      "source": [],
      "metadata": {
        "id": "s8ivo4OWp7oG"
      },
      "execution_count": null,
      "outputs": []
    },
    {
      "cell_type": "code",
      "source": [],
      "metadata": {
        "id": "ydm31szioyTJ"
      },
      "execution_count": null,
      "outputs": []
    },
    {
      "cell_type": "code",
      "source": [],
      "metadata": {
        "id": "SL0uDDavoBaU"
      },
      "execution_count": null,
      "outputs": []
    },
    {
      "cell_type": "code",
      "source": [],
      "metadata": {
        "id": "go_QgY_7n-4V"
      },
      "execution_count": null,
      "outputs": []
    },
    {
      "cell_type": "code",
      "source": [],
      "metadata": {
        "id": "gm2-AfRZnTD_"
      },
      "execution_count": null,
      "outputs": []
    },
    {
      "cell_type": "code",
      "source": [],
      "metadata": {
        "id": "ReYFwCJpnQzv"
      },
      "execution_count": null,
      "outputs": []
    },
    {
      "cell_type": "code",
      "source": [],
      "metadata": {
        "id": "DYxqcHK9mn-Z"
      },
      "execution_count": null,
      "outputs": []
    },
    {
      "cell_type": "code",
      "source": [],
      "metadata": {
        "id": "gWJjDr-emhO7"
      },
      "execution_count": null,
      "outputs": []
    },
    {
      "cell_type": "code",
      "source": [],
      "metadata": {
        "id": "69ifkc6CmghC"
      },
      "execution_count": null,
      "outputs": []
    },
    {
      "cell_type": "code",
      "source": [],
      "metadata": {
        "id": "P8gxNhvZmdt6"
      },
      "execution_count": null,
      "outputs": []
    },
    {
      "cell_type": "code",
      "source": [],
      "metadata": {
        "id": "RS-Owr1EmNQT"
      },
      "execution_count": null,
      "outputs": []
    },
    {
      "cell_type": "code",
      "source": [],
      "metadata": {
        "id": "f_BwAhU0lNce"
      },
      "execution_count": null,
      "outputs": []
    },
    {
      "cell_type": "code",
      "source": [],
      "metadata": {
        "id": "vnP4XZWYjel7"
      },
      "execution_count": null,
      "outputs": []
    }
  ]
}
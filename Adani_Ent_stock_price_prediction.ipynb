{
  "nbformat": 4,
  "nbformat_minor": 0,
  "metadata": {
    "colab": {
      "provenance": [],
      "include_colab_link": true
    },
    "kernelspec": {
      "name": "python3",
      "display_name": "Python 3"
    },
    "language_info": {
      "name": "python"
    }
  },
  "cells": [
    {
      "cell_type": "markdown",
      "metadata": {
        "id": "view-in-github",
        "colab_type": "text"
      },
      "source": [
        "<a href=\"https://colab.research.google.com/github/Sachinsatya/Adani_Ent_stock_price_prediction_usingML/blob/main/Adani_Ent_stock_price_prediction.ipynb\" target=\"_parent\"><img src=\"https://colab.research.google.com/assets/colab-badge.svg\" alt=\"Open In Colab\"/></a>"
      ]
    },
    {
      "cell_type": "markdown",
      "source": [
        "STOCK PRICE PREDICTION Using Regression and Deep Learning Algorithms\n"
      ],
      "metadata": {
        "id": "dYqoFU-Vi4Db"
      }
    },
    {
      "cell_type": "code",
      "source": [
        "import pandas as pd\n",
        "import numpy as np\n",
        "import matplotlib.pyplot as plt\n",
        "import seaborn as sns\n",
        "import yfinance as yf\n",
        "import datetime\n",
        "import warnings\n",
        "warnings.filterwarnings('ignore')\n"
      ],
      "metadata": {
        "id": "YVVIQXPbi45O"
      },
      "execution_count": 3,
      "outputs": []
    },
    {
      "cell_type": "code",
      "source": [
        " df = yf.download(\"ADANIENT.NS\", start=\"2020-01-01\", end=\"2023-02-12\")\n",
        "df"
      ],
      "metadata": {
        "colab": {
          "base_uri": "https://localhost:8080/",
          "height": 472
        },
        "id": "oK8QfrDljHX9",
        "outputId": "fe992d96-d8ef-4099-d05f-bc45dd749b52"
      },
      "execution_count": 4,
      "outputs": [
        {
          "output_type": "stream",
          "name": "stdout",
          "text": [
            "\r[*********************100%***********************]  1 of 1 completed\n"
          ]
        },
        {
          "output_type": "execute_result",
          "data": {
            "text/plain": [
              "                   Open         High          Low        Close    Adj Close  \\\n",
              "Date                                                                          \n",
              "2020-01-01   209.000000   210.449997   206.649994   207.850006   206.116074   \n",
              "2020-01-02   208.000000   213.199997   207.500000   211.199997   209.438110   \n",
              "2020-01-03   210.250000   212.350006   205.800003   208.300003   206.562302   \n",
              "2020-01-06   207.750000   207.750000   197.750000   199.550003   197.885300   \n",
              "2020-01-07   200.550003   205.699997   200.550003   204.050003   202.347778   \n",
              "...                 ...          ...          ...          ...          ...   \n",
              "2023-02-06  1575.000000  1615.000000  1435.199951  1572.699951  1572.699951   \n",
              "2023-02-07  1571.000000  1962.699951  1525.599976  1802.949951  1802.949951   \n",
              "2023-02-08  1869.849976  2222.149902  1840.849976  2164.250000  2164.250000   \n",
              "2023-02-09  2168.000000  2168.000000  1731.400024  1925.699951  1925.699951   \n",
              "2023-02-10  1769.000000  1990.000000  1733.150024  1846.949951  1846.949951   \n",
              "\n",
              "              Volume  \n",
              "Date                  \n",
              "2020-01-01   1553127  \n",
              "2020-01-02   2991937  \n",
              "2020-01-03   2512421  \n",
              "2020-01-06   4353179  \n",
              "2020-01-07   2966120  \n",
              "...              ...  \n",
              "2023-02-06  19308603  \n",
              "2023-02-07  19188072  \n",
              "2023-02-08  19173006  \n",
              "2023-02-09  18279862  \n",
              "2023-02-10  11334878  \n",
              "\n",
              "[776 rows x 6 columns]"
            ],
            "text/html": [
              "\n",
              "  <div id=\"df-aec2fb6e-71ea-4664-ba91-efda3129ade6\">\n",
              "    <div class=\"colab-df-container\">\n",
              "      <div>\n",
              "<style scoped>\n",
              "    .dataframe tbody tr th:only-of-type {\n",
              "        vertical-align: middle;\n",
              "    }\n",
              "\n",
              "    .dataframe tbody tr th {\n",
              "        vertical-align: top;\n",
              "    }\n",
              "\n",
              "    .dataframe thead th {\n",
              "        text-align: right;\n",
              "    }\n",
              "</style>\n",
              "<table border=\"1\" class=\"dataframe\">\n",
              "  <thead>\n",
              "    <tr style=\"text-align: right;\">\n",
              "      <th></th>\n",
              "      <th>Open</th>\n",
              "      <th>High</th>\n",
              "      <th>Low</th>\n",
              "      <th>Close</th>\n",
              "      <th>Adj Close</th>\n",
              "      <th>Volume</th>\n",
              "    </tr>\n",
              "    <tr>\n",
              "      <th>Date</th>\n",
              "      <th></th>\n",
              "      <th></th>\n",
              "      <th></th>\n",
              "      <th></th>\n",
              "      <th></th>\n",
              "      <th></th>\n",
              "    </tr>\n",
              "  </thead>\n",
              "  <tbody>\n",
              "    <tr>\n",
              "      <th>2020-01-01</th>\n",
              "      <td>209.000000</td>\n",
              "      <td>210.449997</td>\n",
              "      <td>206.649994</td>\n",
              "      <td>207.850006</td>\n",
              "      <td>206.116074</td>\n",
              "      <td>1553127</td>\n",
              "    </tr>\n",
              "    <tr>\n",
              "      <th>2020-01-02</th>\n",
              "      <td>208.000000</td>\n",
              "      <td>213.199997</td>\n",
              "      <td>207.500000</td>\n",
              "      <td>211.199997</td>\n",
              "      <td>209.438110</td>\n",
              "      <td>2991937</td>\n",
              "    </tr>\n",
              "    <tr>\n",
              "      <th>2020-01-03</th>\n",
              "      <td>210.250000</td>\n",
              "      <td>212.350006</td>\n",
              "      <td>205.800003</td>\n",
              "      <td>208.300003</td>\n",
              "      <td>206.562302</td>\n",
              "      <td>2512421</td>\n",
              "    </tr>\n",
              "    <tr>\n",
              "      <th>2020-01-06</th>\n",
              "      <td>207.750000</td>\n",
              "      <td>207.750000</td>\n",
              "      <td>197.750000</td>\n",
              "      <td>199.550003</td>\n",
              "      <td>197.885300</td>\n",
              "      <td>4353179</td>\n",
              "    </tr>\n",
              "    <tr>\n",
              "      <th>2020-01-07</th>\n",
              "      <td>200.550003</td>\n",
              "      <td>205.699997</td>\n",
              "      <td>200.550003</td>\n",
              "      <td>204.050003</td>\n",
              "      <td>202.347778</td>\n",
              "      <td>2966120</td>\n",
              "    </tr>\n",
              "    <tr>\n",
              "      <th>...</th>\n",
              "      <td>...</td>\n",
              "      <td>...</td>\n",
              "      <td>...</td>\n",
              "      <td>...</td>\n",
              "      <td>...</td>\n",
              "      <td>...</td>\n",
              "    </tr>\n",
              "    <tr>\n",
              "      <th>2023-02-06</th>\n",
              "      <td>1575.000000</td>\n",
              "      <td>1615.000000</td>\n",
              "      <td>1435.199951</td>\n",
              "      <td>1572.699951</td>\n",
              "      <td>1572.699951</td>\n",
              "      <td>19308603</td>\n",
              "    </tr>\n",
              "    <tr>\n",
              "      <th>2023-02-07</th>\n",
              "      <td>1571.000000</td>\n",
              "      <td>1962.699951</td>\n",
              "      <td>1525.599976</td>\n",
              "      <td>1802.949951</td>\n",
              "      <td>1802.949951</td>\n",
              "      <td>19188072</td>\n",
              "    </tr>\n",
              "    <tr>\n",
              "      <th>2023-02-08</th>\n",
              "      <td>1869.849976</td>\n",
              "      <td>2222.149902</td>\n",
              "      <td>1840.849976</td>\n",
              "      <td>2164.250000</td>\n",
              "      <td>2164.250000</td>\n",
              "      <td>19173006</td>\n",
              "    </tr>\n",
              "    <tr>\n",
              "      <th>2023-02-09</th>\n",
              "      <td>2168.000000</td>\n",
              "      <td>2168.000000</td>\n",
              "      <td>1731.400024</td>\n",
              "      <td>1925.699951</td>\n",
              "      <td>1925.699951</td>\n",
              "      <td>18279862</td>\n",
              "    </tr>\n",
              "    <tr>\n",
              "      <th>2023-02-10</th>\n",
              "      <td>1769.000000</td>\n",
              "      <td>1990.000000</td>\n",
              "      <td>1733.150024</td>\n",
              "      <td>1846.949951</td>\n",
              "      <td>1846.949951</td>\n",
              "      <td>11334878</td>\n",
              "    </tr>\n",
              "  </tbody>\n",
              "</table>\n",
              "<p>776 rows × 6 columns</p>\n",
              "</div>\n",
              "      <button class=\"colab-df-convert\" onclick=\"convertToInteractive('df-aec2fb6e-71ea-4664-ba91-efda3129ade6')\"\n",
              "              title=\"Convert this dataframe to an interactive table.\"\n",
              "              style=\"display:none;\">\n",
              "        \n",
              "  <svg xmlns=\"http://www.w3.org/2000/svg\" height=\"24px\"viewBox=\"0 0 24 24\"\n",
              "       width=\"24px\">\n",
              "    <path d=\"M0 0h24v24H0V0z\" fill=\"none\"/>\n",
              "    <path d=\"M18.56 5.44l.94 2.06.94-2.06 2.06-.94-2.06-.94-.94-2.06-.94 2.06-2.06.94zm-11 1L8.5 8.5l.94-2.06 2.06-.94-2.06-.94L8.5 2.5l-.94 2.06-2.06.94zm10 10l.94 2.06.94-2.06 2.06-.94-2.06-.94-.94-2.06-.94 2.06-2.06.94z\"/><path d=\"M17.41 7.96l-1.37-1.37c-.4-.4-.92-.59-1.43-.59-.52 0-1.04.2-1.43.59L10.3 9.45l-7.72 7.72c-.78.78-.78 2.05 0 2.83L4 21.41c.39.39.9.59 1.41.59.51 0 1.02-.2 1.41-.59l7.78-7.78 2.81-2.81c.8-.78.8-2.07 0-2.86zM5.41 20L4 18.59l7.72-7.72 1.47 1.35L5.41 20z\"/>\n",
              "  </svg>\n",
              "      </button>\n",
              "      \n",
              "  <style>\n",
              "    .colab-df-container {\n",
              "      display:flex;\n",
              "      flex-wrap:wrap;\n",
              "      gap: 12px;\n",
              "    }\n",
              "\n",
              "    .colab-df-convert {\n",
              "      background-color: #E8F0FE;\n",
              "      border: none;\n",
              "      border-radius: 50%;\n",
              "      cursor: pointer;\n",
              "      display: none;\n",
              "      fill: #1967D2;\n",
              "      height: 32px;\n",
              "      padding: 0 0 0 0;\n",
              "      width: 32px;\n",
              "    }\n",
              "\n",
              "    .colab-df-convert:hover {\n",
              "      background-color: #E2EBFA;\n",
              "      box-shadow: 0px 1px 2px rgba(60, 64, 67, 0.3), 0px 1px 3px 1px rgba(60, 64, 67, 0.15);\n",
              "      fill: #174EA6;\n",
              "    }\n",
              "\n",
              "    [theme=dark] .colab-df-convert {\n",
              "      background-color: #3B4455;\n",
              "      fill: #D2E3FC;\n",
              "    }\n",
              "\n",
              "    [theme=dark] .colab-df-convert:hover {\n",
              "      background-color: #434B5C;\n",
              "      box-shadow: 0px 1px 3px 1px rgba(0, 0, 0, 0.15);\n",
              "      filter: drop-shadow(0px 1px 2px rgba(0, 0, 0, 0.3));\n",
              "      fill: #FFFFFF;\n",
              "    }\n",
              "  </style>\n",
              "\n",
              "      <script>\n",
              "        const buttonEl =\n",
              "          document.querySelector('#df-aec2fb6e-71ea-4664-ba91-efda3129ade6 button.colab-df-convert');\n",
              "        buttonEl.style.display =\n",
              "          google.colab.kernel.accessAllowed ? 'block' : 'none';\n",
              "\n",
              "        async function convertToInteractive(key) {\n",
              "          const element = document.querySelector('#df-aec2fb6e-71ea-4664-ba91-efda3129ade6');\n",
              "          const dataTable =\n",
              "            await google.colab.kernel.invokeFunction('convertToInteractive',\n",
              "                                                     [key], {});\n",
              "          if (!dataTable) return;\n",
              "\n",
              "          const docLinkHtml = 'Like what you see? Visit the ' +\n",
              "            '<a target=\"_blank\" href=https://colab.research.google.com/notebooks/data_table.ipynb>data table notebook</a>'\n",
              "            + ' to learn more about interactive tables.';\n",
              "          element.innerHTML = '';\n",
              "          dataTable['output_type'] = 'display_data';\n",
              "          await google.colab.output.renderOutput(dataTable, element);\n",
              "          const docLink = document.createElement('div');\n",
              "          docLink.innerHTML = docLinkHtml;\n",
              "          element.appendChild(docLink);\n",
              "        }\n",
              "      </script>\n",
              "    </div>\n",
              "  </div>\n",
              "  "
            ]
          },
          "metadata": {},
          "execution_count": 4
        }
      ]
    },
    {
      "cell_type": "code",
      "source": [
        "df = df.round(2)"
      ],
      "metadata": {
        "id": "OG22B1KRjWWk"
      },
      "execution_count": 5,
      "outputs": []
    },
    {
      "cell_type": "code",
      "source": [
        "df.head(3)"
      ],
      "metadata": {
        "colab": {
          "base_uri": "https://localhost:8080/",
          "height": 175
        },
        "id": "zK9jhzlijdn8",
        "outputId": "8798af8e-9e68-4b75-8161-1e076bd21c64"
      },
      "execution_count": 6,
      "outputs": [
        {
          "output_type": "execute_result",
          "data": {
            "text/plain": [
              "              Open    High     Low   Close  Adj Close   Volume\n",
              "Date                                                          \n",
              "2020-01-01  209.00  210.45  206.65  207.85     206.12  1553127\n",
              "2020-01-02  208.00  213.20  207.50  211.20     209.44  2991937\n",
              "2020-01-03  210.25  212.35  205.80  208.30     206.56  2512421"
            ],
            "text/html": [
              "\n",
              "  <div id=\"df-adec13d3-a3f8-4384-9683-c356f8263260\">\n",
              "    <div class=\"colab-df-container\">\n",
              "      <div>\n",
              "<style scoped>\n",
              "    .dataframe tbody tr th:only-of-type {\n",
              "        vertical-align: middle;\n",
              "    }\n",
              "\n",
              "    .dataframe tbody tr th {\n",
              "        vertical-align: top;\n",
              "    }\n",
              "\n",
              "    .dataframe thead th {\n",
              "        text-align: right;\n",
              "    }\n",
              "</style>\n",
              "<table border=\"1\" class=\"dataframe\">\n",
              "  <thead>\n",
              "    <tr style=\"text-align: right;\">\n",
              "      <th></th>\n",
              "      <th>Open</th>\n",
              "      <th>High</th>\n",
              "      <th>Low</th>\n",
              "      <th>Close</th>\n",
              "      <th>Adj Close</th>\n",
              "      <th>Volume</th>\n",
              "    </tr>\n",
              "    <tr>\n",
              "      <th>Date</th>\n",
              "      <th></th>\n",
              "      <th></th>\n",
              "      <th></th>\n",
              "      <th></th>\n",
              "      <th></th>\n",
              "      <th></th>\n",
              "    </tr>\n",
              "  </thead>\n",
              "  <tbody>\n",
              "    <tr>\n",
              "      <th>2020-01-01</th>\n",
              "      <td>209.00</td>\n",
              "      <td>210.45</td>\n",
              "      <td>206.65</td>\n",
              "      <td>207.85</td>\n",
              "      <td>206.12</td>\n",
              "      <td>1553127</td>\n",
              "    </tr>\n",
              "    <tr>\n",
              "      <th>2020-01-02</th>\n",
              "      <td>208.00</td>\n",
              "      <td>213.20</td>\n",
              "      <td>207.50</td>\n",
              "      <td>211.20</td>\n",
              "      <td>209.44</td>\n",
              "      <td>2991937</td>\n",
              "    </tr>\n",
              "    <tr>\n",
              "      <th>2020-01-03</th>\n",
              "      <td>210.25</td>\n",
              "      <td>212.35</td>\n",
              "      <td>205.80</td>\n",
              "      <td>208.30</td>\n",
              "      <td>206.56</td>\n",
              "      <td>2512421</td>\n",
              "    </tr>\n",
              "  </tbody>\n",
              "</table>\n",
              "</div>\n",
              "      <button class=\"colab-df-convert\" onclick=\"convertToInteractive('df-adec13d3-a3f8-4384-9683-c356f8263260')\"\n",
              "              title=\"Convert this dataframe to an interactive table.\"\n",
              "              style=\"display:none;\">\n",
              "        \n",
              "  <svg xmlns=\"http://www.w3.org/2000/svg\" height=\"24px\"viewBox=\"0 0 24 24\"\n",
              "       width=\"24px\">\n",
              "    <path d=\"M0 0h24v24H0V0z\" fill=\"none\"/>\n",
              "    <path d=\"M18.56 5.44l.94 2.06.94-2.06 2.06-.94-2.06-.94-.94-2.06-.94 2.06-2.06.94zm-11 1L8.5 8.5l.94-2.06 2.06-.94-2.06-.94L8.5 2.5l-.94 2.06-2.06.94zm10 10l.94 2.06.94-2.06 2.06-.94-2.06-.94-.94-2.06-.94 2.06-2.06.94z\"/><path d=\"M17.41 7.96l-1.37-1.37c-.4-.4-.92-.59-1.43-.59-.52 0-1.04.2-1.43.59L10.3 9.45l-7.72 7.72c-.78.78-.78 2.05 0 2.83L4 21.41c.39.39.9.59 1.41.59.51 0 1.02-.2 1.41-.59l7.78-7.78 2.81-2.81c.8-.78.8-2.07 0-2.86zM5.41 20L4 18.59l7.72-7.72 1.47 1.35L5.41 20z\"/>\n",
              "  </svg>\n",
              "      </button>\n",
              "      \n",
              "  <style>\n",
              "    .colab-df-container {\n",
              "      display:flex;\n",
              "      flex-wrap:wrap;\n",
              "      gap: 12px;\n",
              "    }\n",
              "\n",
              "    .colab-df-convert {\n",
              "      background-color: #E8F0FE;\n",
              "      border: none;\n",
              "      border-radius: 50%;\n",
              "      cursor: pointer;\n",
              "      display: none;\n",
              "      fill: #1967D2;\n",
              "      height: 32px;\n",
              "      padding: 0 0 0 0;\n",
              "      width: 32px;\n",
              "    }\n",
              "\n",
              "    .colab-df-convert:hover {\n",
              "      background-color: #E2EBFA;\n",
              "      box-shadow: 0px 1px 2px rgba(60, 64, 67, 0.3), 0px 1px 3px 1px rgba(60, 64, 67, 0.15);\n",
              "      fill: #174EA6;\n",
              "    }\n",
              "\n",
              "    [theme=dark] .colab-df-convert {\n",
              "      background-color: #3B4455;\n",
              "      fill: #D2E3FC;\n",
              "    }\n",
              "\n",
              "    [theme=dark] .colab-df-convert:hover {\n",
              "      background-color: #434B5C;\n",
              "      box-shadow: 0px 1px 3px 1px rgba(0, 0, 0, 0.15);\n",
              "      filter: drop-shadow(0px 1px 2px rgba(0, 0, 0, 0.3));\n",
              "      fill: #FFFFFF;\n",
              "    }\n",
              "  </style>\n",
              "\n",
              "      <script>\n",
              "        const buttonEl =\n",
              "          document.querySelector('#df-adec13d3-a3f8-4384-9683-c356f8263260 button.colab-df-convert');\n",
              "        buttonEl.style.display =\n",
              "          google.colab.kernel.accessAllowed ? 'block' : 'none';\n",
              "\n",
              "        async function convertToInteractive(key) {\n",
              "          const element = document.querySelector('#df-adec13d3-a3f8-4384-9683-c356f8263260');\n",
              "          const dataTable =\n",
              "            await google.colab.kernel.invokeFunction('convertToInteractive',\n",
              "                                                     [key], {});\n",
              "          if (!dataTable) return;\n",
              "\n",
              "          const docLinkHtml = 'Like what you see? Visit the ' +\n",
              "            '<a target=\"_blank\" href=https://colab.research.google.com/notebooks/data_table.ipynb>data table notebook</a>'\n",
              "            + ' to learn more about interactive tables.';\n",
              "          element.innerHTML = '';\n",
              "          dataTable['output_type'] = 'display_data';\n",
              "          await google.colab.output.renderOutput(dataTable, element);\n",
              "          const docLink = document.createElement('div');\n",
              "          docLink.innerHTML = docLinkHtml;\n",
              "          element.appendChild(docLink);\n",
              "        }\n",
              "      </script>\n",
              "    </div>\n",
              "  </div>\n",
              "  "
            ]
          },
          "metadata": {},
          "execution_count": 6
        }
      ]
    },
    {
      "cell_type": "code",
      "source": [
        "df.tail()"
      ],
      "metadata": {
        "colab": {
          "base_uri": "https://localhost:8080/",
          "height": 238
        },
        "id": "3dHQ1ebCjlqj",
        "outputId": "4247df65-26bd-4d1f-d7ee-0b2780ebb72a"
      },
      "execution_count": 7,
      "outputs": [
        {
          "output_type": "execute_result",
          "data": {
            "text/plain": [
              "               Open     High      Low    Close  Adj Close    Volume\n",
              "Date                                                               \n",
              "2023-02-06  1575.00  1615.00  1435.20  1572.70    1572.70  19308603\n",
              "2023-02-07  1571.00  1962.70  1525.60  1802.95    1802.95  19188072\n",
              "2023-02-08  1869.85  2222.15  1840.85  2164.25    2164.25  19173006\n",
              "2023-02-09  2168.00  2168.00  1731.40  1925.70    1925.70  18279862\n",
              "2023-02-10  1769.00  1990.00  1733.15  1846.95    1846.95  11334878"
            ],
            "text/html": [
              "\n",
              "  <div id=\"df-3c399e64-1ee4-49bd-baab-66cc54322b2b\">\n",
              "    <div class=\"colab-df-container\">\n",
              "      <div>\n",
              "<style scoped>\n",
              "    .dataframe tbody tr th:only-of-type {\n",
              "        vertical-align: middle;\n",
              "    }\n",
              "\n",
              "    .dataframe tbody tr th {\n",
              "        vertical-align: top;\n",
              "    }\n",
              "\n",
              "    .dataframe thead th {\n",
              "        text-align: right;\n",
              "    }\n",
              "</style>\n",
              "<table border=\"1\" class=\"dataframe\">\n",
              "  <thead>\n",
              "    <tr style=\"text-align: right;\">\n",
              "      <th></th>\n",
              "      <th>Open</th>\n",
              "      <th>High</th>\n",
              "      <th>Low</th>\n",
              "      <th>Close</th>\n",
              "      <th>Adj Close</th>\n",
              "      <th>Volume</th>\n",
              "    </tr>\n",
              "    <tr>\n",
              "      <th>Date</th>\n",
              "      <th></th>\n",
              "      <th></th>\n",
              "      <th></th>\n",
              "      <th></th>\n",
              "      <th></th>\n",
              "      <th></th>\n",
              "    </tr>\n",
              "  </thead>\n",
              "  <tbody>\n",
              "    <tr>\n",
              "      <th>2023-02-06</th>\n",
              "      <td>1575.00</td>\n",
              "      <td>1615.00</td>\n",
              "      <td>1435.20</td>\n",
              "      <td>1572.70</td>\n",
              "      <td>1572.70</td>\n",
              "      <td>19308603</td>\n",
              "    </tr>\n",
              "    <tr>\n",
              "      <th>2023-02-07</th>\n",
              "      <td>1571.00</td>\n",
              "      <td>1962.70</td>\n",
              "      <td>1525.60</td>\n",
              "      <td>1802.95</td>\n",
              "      <td>1802.95</td>\n",
              "      <td>19188072</td>\n",
              "    </tr>\n",
              "    <tr>\n",
              "      <th>2023-02-08</th>\n",
              "      <td>1869.85</td>\n",
              "      <td>2222.15</td>\n",
              "      <td>1840.85</td>\n",
              "      <td>2164.25</td>\n",
              "      <td>2164.25</td>\n",
              "      <td>19173006</td>\n",
              "    </tr>\n",
              "    <tr>\n",
              "      <th>2023-02-09</th>\n",
              "      <td>2168.00</td>\n",
              "      <td>2168.00</td>\n",
              "      <td>1731.40</td>\n",
              "      <td>1925.70</td>\n",
              "      <td>1925.70</td>\n",
              "      <td>18279862</td>\n",
              "    </tr>\n",
              "    <tr>\n",
              "      <th>2023-02-10</th>\n",
              "      <td>1769.00</td>\n",
              "      <td>1990.00</td>\n",
              "      <td>1733.15</td>\n",
              "      <td>1846.95</td>\n",
              "      <td>1846.95</td>\n",
              "      <td>11334878</td>\n",
              "    </tr>\n",
              "  </tbody>\n",
              "</table>\n",
              "</div>\n",
              "      <button class=\"colab-df-convert\" onclick=\"convertToInteractive('df-3c399e64-1ee4-49bd-baab-66cc54322b2b')\"\n",
              "              title=\"Convert this dataframe to an interactive table.\"\n",
              "              style=\"display:none;\">\n",
              "        \n",
              "  <svg xmlns=\"http://www.w3.org/2000/svg\" height=\"24px\"viewBox=\"0 0 24 24\"\n",
              "       width=\"24px\">\n",
              "    <path d=\"M0 0h24v24H0V0z\" fill=\"none\"/>\n",
              "    <path d=\"M18.56 5.44l.94 2.06.94-2.06 2.06-.94-2.06-.94-.94-2.06-.94 2.06-2.06.94zm-11 1L8.5 8.5l.94-2.06 2.06-.94-2.06-.94L8.5 2.5l-.94 2.06-2.06.94zm10 10l.94 2.06.94-2.06 2.06-.94-2.06-.94-.94-2.06-.94 2.06-2.06.94z\"/><path d=\"M17.41 7.96l-1.37-1.37c-.4-.4-.92-.59-1.43-.59-.52 0-1.04.2-1.43.59L10.3 9.45l-7.72 7.72c-.78.78-.78 2.05 0 2.83L4 21.41c.39.39.9.59 1.41.59.51 0 1.02-.2 1.41-.59l7.78-7.78 2.81-2.81c.8-.78.8-2.07 0-2.86zM5.41 20L4 18.59l7.72-7.72 1.47 1.35L5.41 20z\"/>\n",
              "  </svg>\n",
              "      </button>\n",
              "      \n",
              "  <style>\n",
              "    .colab-df-container {\n",
              "      display:flex;\n",
              "      flex-wrap:wrap;\n",
              "      gap: 12px;\n",
              "    }\n",
              "\n",
              "    .colab-df-convert {\n",
              "      background-color: #E8F0FE;\n",
              "      border: none;\n",
              "      border-radius: 50%;\n",
              "      cursor: pointer;\n",
              "      display: none;\n",
              "      fill: #1967D2;\n",
              "      height: 32px;\n",
              "      padding: 0 0 0 0;\n",
              "      width: 32px;\n",
              "    }\n",
              "\n",
              "    .colab-df-convert:hover {\n",
              "      background-color: #E2EBFA;\n",
              "      box-shadow: 0px 1px 2px rgba(60, 64, 67, 0.3), 0px 1px 3px 1px rgba(60, 64, 67, 0.15);\n",
              "      fill: #174EA6;\n",
              "    }\n",
              "\n",
              "    [theme=dark] .colab-df-convert {\n",
              "      background-color: #3B4455;\n",
              "      fill: #D2E3FC;\n",
              "    }\n",
              "\n",
              "    [theme=dark] .colab-df-convert:hover {\n",
              "      background-color: #434B5C;\n",
              "      box-shadow: 0px 1px 3px 1px rgba(0, 0, 0, 0.15);\n",
              "      filter: drop-shadow(0px 1px 2px rgba(0, 0, 0, 0.3));\n",
              "      fill: #FFFFFF;\n",
              "    }\n",
              "  </style>\n",
              "\n",
              "      <script>\n",
              "        const buttonEl =\n",
              "          document.querySelector('#df-3c399e64-1ee4-49bd-baab-66cc54322b2b button.colab-df-convert');\n",
              "        buttonEl.style.display =\n",
              "          google.colab.kernel.accessAllowed ? 'block' : 'none';\n",
              "\n",
              "        async function convertToInteractive(key) {\n",
              "          const element = document.querySelector('#df-3c399e64-1ee4-49bd-baab-66cc54322b2b');\n",
              "          const dataTable =\n",
              "            await google.colab.kernel.invokeFunction('convertToInteractive',\n",
              "                                                     [key], {});\n",
              "          if (!dataTable) return;\n",
              "\n",
              "          const docLinkHtml = 'Like what you see? Visit the ' +\n",
              "            '<a target=\"_blank\" href=https://colab.research.google.com/notebooks/data_table.ipynb>data table notebook</a>'\n",
              "            + ' to learn more about interactive tables.';\n",
              "          element.innerHTML = '';\n",
              "          dataTable['output_type'] = 'display_data';\n",
              "          await google.colab.output.renderOutput(dataTable, element);\n",
              "          const docLink = document.createElement('div');\n",
              "          docLink.innerHTML = docLinkHtml;\n",
              "          element.appendChild(docLink);\n",
              "        }\n",
              "      </script>\n",
              "    </div>\n",
              "  </div>\n",
              "  "
            ]
          },
          "metadata": {},
          "execution_count": 7
        }
      ]
    },
    {
      "cell_type": "code",
      "source": [
        "df.columns"
      ],
      "metadata": {
        "colab": {
          "base_uri": "https://localhost:8080/"
        },
        "id": "4hLRScGRjoXT",
        "outputId": "e1e8d5cb-5f29-4b37-a0e8-28da99be9c46"
      },
      "execution_count": 8,
      "outputs": [
        {
          "output_type": "execute_result",
          "data": {
            "text/plain": [
              "Index(['Open', 'High', 'Low', 'Close', 'Adj Close', 'Volume'], dtype='object')"
            ]
          },
          "metadata": {},
          "execution_count": 8
        }
      ]
    },
    {
      "cell_type": "code",
      "source": [
        "df.dtypes"
      ],
      "metadata": {
        "colab": {
          "base_uri": "https://localhost:8080/"
        },
        "id": "ceF_lmTUjqUL",
        "outputId": "037abded-8cdd-4e77-e058-b62f9b2ff61c"
      },
      "execution_count": 9,
      "outputs": [
        {
          "output_type": "execute_result",
          "data": {
            "text/plain": [
              "Open         float64\n",
              "High         float64\n",
              "Low          float64\n",
              "Close        float64\n",
              "Adj Close    float64\n",
              "Volume         int64\n",
              "dtype: object"
            ]
          },
          "metadata": {},
          "execution_count": 9
        }
      ]
    },
    {
      "cell_type": "code",
      "source": [
        "df.duplicated().sum()                              #To Check Duplicated Value"
      ],
      "metadata": {
        "colab": {
          "base_uri": "https://localhost:8080/"
        },
        "id": "N_Qy3SACjuP7",
        "outputId": "9dc96ea3-6af5-4f27-9acb-b90a1ce4ba02"
      },
      "execution_count": 10,
      "outputs": [
        {
          "output_type": "execute_result",
          "data": {
            "text/plain": [
              "0"
            ]
          },
          "metadata": {},
          "execution_count": 10
        }
      ]
    },
    {
      "cell_type": "code",
      "source": [
        "df.isnull().sum()                                  #To Check Null Value"
      ],
      "metadata": {
        "colab": {
          "base_uri": "https://localhost:8080/"
        },
        "id": "rWONiuHEjzNj",
        "outputId": "d670cf83-ac89-4fe5-dd0a-4fdf3b4de5bc"
      },
      "execution_count": 11,
      "outputs": [
        {
          "output_type": "execute_result",
          "data": {
            "text/plain": [
              "Open         0\n",
              "High         0\n",
              "Low          0\n",
              "Close        0\n",
              "Adj Close    0\n",
              "Volume       0\n",
              "dtype: int64"
            ]
          },
          "metadata": {},
          "execution_count": 11
        }
      ]
    },
    {
      "cell_type": "code",
      "source": [
        "df.info()"
      ],
      "metadata": {
        "colab": {
          "base_uri": "https://localhost:8080/"
        },
        "id": "J_6A6nCSj2Wb",
        "outputId": "e7dd0620-148c-49c9-dad9-65849507c432"
      },
      "execution_count": 12,
      "outputs": [
        {
          "output_type": "stream",
          "name": "stdout",
          "text": [
            "<class 'pandas.core.frame.DataFrame'>\n",
            "DatetimeIndex: 776 entries, 2020-01-01 to 2023-02-10\n",
            "Data columns (total 6 columns):\n",
            " #   Column     Non-Null Count  Dtype  \n",
            "---  ------     --------------  -----  \n",
            " 0   Open       776 non-null    float64\n",
            " 1   High       776 non-null    float64\n",
            " 2   Low        776 non-null    float64\n",
            " 3   Close      776 non-null    float64\n",
            " 4   Adj Close  776 non-null    float64\n",
            " 5   Volume     776 non-null    int64  \n",
            "dtypes: float64(5), int64(1)\n",
            "memory usage: 42.4 KB\n"
          ]
        }
      ]
    },
    {
      "cell_type": "code",
      "source": [
        "df.shape"
      ],
      "metadata": {
        "colab": {
          "base_uri": "https://localhost:8080/"
        },
        "id": "23j5Qjt4kCni",
        "outputId": "f938bbc2-6221-4a2c-8287-15df93937a60"
      },
      "execution_count": 13,
      "outputs": [
        {
          "output_type": "execute_result",
          "data": {
            "text/plain": [
              "(776, 6)"
            ]
          },
          "metadata": {},
          "execution_count": 13
        }
      ]
    },
    {
      "cell_type": "markdown",
      "source": [
        "Basic statistic of the  Data Frame"
      ],
      "metadata": {
        "id": "QDYJy4OekIXB"
      }
    },
    {
      "cell_type": "code",
      "source": [
        "df.describe()"
      ],
      "metadata": {
        "colab": {
          "base_uri": "https://localhost:8080/",
          "height": 300
        },
        "id": "xROLHKjRkFHi",
        "outputId": "289ebd29-7585-4880-b441-5836bc648ae5"
      },
      "execution_count": 14,
      "outputs": [
        {
          "output_type": "execute_result",
          "data": {
            "text/plain": [
              "              Open         High          Low        Close    Adj Close  \\\n",
              "count   776.000000   776.000000   776.000000   776.000000   776.000000   \n",
              "mean   1457.520941  1484.426740  1427.072358  1456.515851  1455.890941   \n",
              "std    1157.218274  1172.336313  1135.864261  1154.038099  1154.213288   \n",
              "min     121.000000   129.800000   116.400000   120.900000   120.770000   \n",
              "25%     312.587500   319.112500   307.012500   312.750000   312.410000   \n",
              "50%    1443.925000  1474.375000  1415.175000  1442.225000  1441.615000   \n",
              "75%    2136.037500  2176.250000  2076.287500  2111.450000  2110.550000   \n",
              "max    4175.000000  4190.000000  4066.400000  4165.300000  4165.300000   \n",
              "\n",
              "             Volume  \n",
              "count  7.760000e+02  \n",
              "mean   4.753229e+06  \n",
              "std    5.389994e+06  \n",
              "min    2.482490e+05  \n",
              "25%    1.714098e+06  \n",
              "50%    3.077650e+06  \n",
              "75%    5.361654e+06  \n",
              "max    4.926454e+07  "
            ],
            "text/html": [
              "\n",
              "  <div id=\"df-392f5ce0-8dca-415a-a76a-186585a837f6\">\n",
              "    <div class=\"colab-df-container\">\n",
              "      <div>\n",
              "<style scoped>\n",
              "    .dataframe tbody tr th:only-of-type {\n",
              "        vertical-align: middle;\n",
              "    }\n",
              "\n",
              "    .dataframe tbody tr th {\n",
              "        vertical-align: top;\n",
              "    }\n",
              "\n",
              "    .dataframe thead th {\n",
              "        text-align: right;\n",
              "    }\n",
              "</style>\n",
              "<table border=\"1\" class=\"dataframe\">\n",
              "  <thead>\n",
              "    <tr style=\"text-align: right;\">\n",
              "      <th></th>\n",
              "      <th>Open</th>\n",
              "      <th>High</th>\n",
              "      <th>Low</th>\n",
              "      <th>Close</th>\n",
              "      <th>Adj Close</th>\n",
              "      <th>Volume</th>\n",
              "    </tr>\n",
              "  </thead>\n",
              "  <tbody>\n",
              "    <tr>\n",
              "      <th>count</th>\n",
              "      <td>776.000000</td>\n",
              "      <td>776.000000</td>\n",
              "      <td>776.000000</td>\n",
              "      <td>776.000000</td>\n",
              "      <td>776.000000</td>\n",
              "      <td>7.760000e+02</td>\n",
              "    </tr>\n",
              "    <tr>\n",
              "      <th>mean</th>\n",
              "      <td>1457.520941</td>\n",
              "      <td>1484.426740</td>\n",
              "      <td>1427.072358</td>\n",
              "      <td>1456.515851</td>\n",
              "      <td>1455.890941</td>\n",
              "      <td>4.753229e+06</td>\n",
              "    </tr>\n",
              "    <tr>\n",
              "      <th>std</th>\n",
              "      <td>1157.218274</td>\n",
              "      <td>1172.336313</td>\n",
              "      <td>1135.864261</td>\n",
              "      <td>1154.038099</td>\n",
              "      <td>1154.213288</td>\n",
              "      <td>5.389994e+06</td>\n",
              "    </tr>\n",
              "    <tr>\n",
              "      <th>min</th>\n",
              "      <td>121.000000</td>\n",
              "      <td>129.800000</td>\n",
              "      <td>116.400000</td>\n",
              "      <td>120.900000</td>\n",
              "      <td>120.770000</td>\n",
              "      <td>2.482490e+05</td>\n",
              "    </tr>\n",
              "    <tr>\n",
              "      <th>25%</th>\n",
              "      <td>312.587500</td>\n",
              "      <td>319.112500</td>\n",
              "      <td>307.012500</td>\n",
              "      <td>312.750000</td>\n",
              "      <td>312.410000</td>\n",
              "      <td>1.714098e+06</td>\n",
              "    </tr>\n",
              "    <tr>\n",
              "      <th>50%</th>\n",
              "      <td>1443.925000</td>\n",
              "      <td>1474.375000</td>\n",
              "      <td>1415.175000</td>\n",
              "      <td>1442.225000</td>\n",
              "      <td>1441.615000</td>\n",
              "      <td>3.077650e+06</td>\n",
              "    </tr>\n",
              "    <tr>\n",
              "      <th>75%</th>\n",
              "      <td>2136.037500</td>\n",
              "      <td>2176.250000</td>\n",
              "      <td>2076.287500</td>\n",
              "      <td>2111.450000</td>\n",
              "      <td>2110.550000</td>\n",
              "      <td>5.361654e+06</td>\n",
              "    </tr>\n",
              "    <tr>\n",
              "      <th>max</th>\n",
              "      <td>4175.000000</td>\n",
              "      <td>4190.000000</td>\n",
              "      <td>4066.400000</td>\n",
              "      <td>4165.300000</td>\n",
              "      <td>4165.300000</td>\n",
              "      <td>4.926454e+07</td>\n",
              "    </tr>\n",
              "  </tbody>\n",
              "</table>\n",
              "</div>\n",
              "      <button class=\"colab-df-convert\" onclick=\"convertToInteractive('df-392f5ce0-8dca-415a-a76a-186585a837f6')\"\n",
              "              title=\"Convert this dataframe to an interactive table.\"\n",
              "              style=\"display:none;\">\n",
              "        \n",
              "  <svg xmlns=\"http://www.w3.org/2000/svg\" height=\"24px\"viewBox=\"0 0 24 24\"\n",
              "       width=\"24px\">\n",
              "    <path d=\"M0 0h24v24H0V0z\" fill=\"none\"/>\n",
              "    <path d=\"M18.56 5.44l.94 2.06.94-2.06 2.06-.94-2.06-.94-.94-2.06-.94 2.06-2.06.94zm-11 1L8.5 8.5l.94-2.06 2.06-.94-2.06-.94L8.5 2.5l-.94 2.06-2.06.94zm10 10l.94 2.06.94-2.06 2.06-.94-2.06-.94-.94-2.06-.94 2.06-2.06.94z\"/><path d=\"M17.41 7.96l-1.37-1.37c-.4-.4-.92-.59-1.43-.59-.52 0-1.04.2-1.43.59L10.3 9.45l-7.72 7.72c-.78.78-.78 2.05 0 2.83L4 21.41c.39.39.9.59 1.41.59.51 0 1.02-.2 1.41-.59l7.78-7.78 2.81-2.81c.8-.78.8-2.07 0-2.86zM5.41 20L4 18.59l7.72-7.72 1.47 1.35L5.41 20z\"/>\n",
              "  </svg>\n",
              "      </button>\n",
              "      \n",
              "  <style>\n",
              "    .colab-df-container {\n",
              "      display:flex;\n",
              "      flex-wrap:wrap;\n",
              "      gap: 12px;\n",
              "    }\n",
              "\n",
              "    .colab-df-convert {\n",
              "      background-color: #E8F0FE;\n",
              "      border: none;\n",
              "      border-radius: 50%;\n",
              "      cursor: pointer;\n",
              "      display: none;\n",
              "      fill: #1967D2;\n",
              "      height: 32px;\n",
              "      padding: 0 0 0 0;\n",
              "      width: 32px;\n",
              "    }\n",
              "\n",
              "    .colab-df-convert:hover {\n",
              "      background-color: #E2EBFA;\n",
              "      box-shadow: 0px 1px 2px rgba(60, 64, 67, 0.3), 0px 1px 3px 1px rgba(60, 64, 67, 0.15);\n",
              "      fill: #174EA6;\n",
              "    }\n",
              "\n",
              "    [theme=dark] .colab-df-convert {\n",
              "      background-color: #3B4455;\n",
              "      fill: #D2E3FC;\n",
              "    }\n",
              "\n",
              "    [theme=dark] .colab-df-convert:hover {\n",
              "      background-color: #434B5C;\n",
              "      box-shadow: 0px 1px 3px 1px rgba(0, 0, 0, 0.15);\n",
              "      filter: drop-shadow(0px 1px 2px rgba(0, 0, 0, 0.3));\n",
              "      fill: #FFFFFF;\n",
              "    }\n",
              "  </style>\n",
              "\n",
              "      <script>\n",
              "        const buttonEl =\n",
              "          document.querySelector('#df-392f5ce0-8dca-415a-a76a-186585a837f6 button.colab-df-convert');\n",
              "        buttonEl.style.display =\n",
              "          google.colab.kernel.accessAllowed ? 'block' : 'none';\n",
              "\n",
              "        async function convertToInteractive(key) {\n",
              "          const element = document.querySelector('#df-392f5ce0-8dca-415a-a76a-186585a837f6');\n",
              "          const dataTable =\n",
              "            await google.colab.kernel.invokeFunction('convertToInteractive',\n",
              "                                                     [key], {});\n",
              "          if (!dataTable) return;\n",
              "\n",
              "          const docLinkHtml = 'Like what you see? Visit the ' +\n",
              "            '<a target=\"_blank\" href=https://colab.research.google.com/notebooks/data_table.ipynb>data table notebook</a>'\n",
              "            + ' to learn more about interactive tables.';\n",
              "          element.innerHTML = '';\n",
              "          dataTable['output_type'] = 'display_data';\n",
              "          await google.colab.output.renderOutput(dataTable, element);\n",
              "          const docLink = document.createElement('div');\n",
              "          docLink.innerHTML = docLinkHtml;\n",
              "          element.appendChild(docLink);\n",
              "        }\n",
              "      </script>\n",
              "    </div>\n",
              "  </div>\n",
              "  "
            ]
          },
          "metadata": {},
          "execution_count": 14
        }
      ]
    },
    {
      "cell_type": "code",
      "source": [
        "df.nunique"
      ],
      "metadata": {
        "colab": {
          "base_uri": "https://localhost:8080/"
        },
        "id": "uBpeiz3nkO-5",
        "outputId": "153dd486-f002-4779-ccba-7a5900c3ff6b"
      },
      "execution_count": 15,
      "outputs": [
        {
          "output_type": "execute_result",
          "data": {
            "text/plain": [
              "<bound method DataFrame.nunique of                Open     High      Low    Close  Adj Close    Volume\n",
              "Date                                                               \n",
              "2020-01-01   209.00   210.45   206.65   207.85     206.12   1553127\n",
              "2020-01-02   208.00   213.20   207.50   211.20     209.44   2991937\n",
              "2020-01-03   210.25   212.35   205.80   208.30     206.56   2512421\n",
              "2020-01-06   207.75   207.75   197.75   199.55     197.89   4353179\n",
              "2020-01-07   200.55   205.70   200.55   204.05     202.35   2966120\n",
              "...             ...      ...      ...      ...        ...       ...\n",
              "2023-02-06  1575.00  1615.00  1435.20  1572.70    1572.70  19308603\n",
              "2023-02-07  1571.00  1962.70  1525.60  1802.95    1802.95  19188072\n",
              "2023-02-08  1869.85  2222.15  1840.85  2164.25    2164.25  19173006\n",
              "2023-02-09  2168.00  2168.00  1731.40  1925.70    1925.70  18279862\n",
              "2023-02-10  1769.00  1990.00  1733.15  1846.95    1846.95  11334878\n",
              "\n",
              "[776 rows x 6 columns]>"
            ]
          },
          "metadata": {},
          "execution_count": 15
        }
      ]
    },
    {
      "cell_type": "code",
      "source": [
        "df['Date'] = df.index"
      ],
      "metadata": {
        "id": "yxLWlmYrkmH4"
      },
      "execution_count": 16,
      "outputs": []
    },
    {
      "cell_type": "code",
      "source": [
        "df"
      ],
      "metadata": {
        "colab": {
          "base_uri": "https://localhost:8080/",
          "height": 455
        },
        "id": "YWhFy5Wckv8O",
        "outputId": "10626c9d-36de-4f69-81e5-5476895a9338"
      },
      "execution_count": 17,
      "outputs": [
        {
          "output_type": "execute_result",
          "data": {
            "text/plain": [
              "               Open     High      Low    Close  Adj Close    Volume       Date\n",
              "Date                                                                          \n",
              "2020-01-01   209.00   210.45   206.65   207.85     206.12   1553127 2020-01-01\n",
              "2020-01-02   208.00   213.20   207.50   211.20     209.44   2991937 2020-01-02\n",
              "2020-01-03   210.25   212.35   205.80   208.30     206.56   2512421 2020-01-03\n",
              "2020-01-06   207.75   207.75   197.75   199.55     197.89   4353179 2020-01-06\n",
              "2020-01-07   200.55   205.70   200.55   204.05     202.35   2966120 2020-01-07\n",
              "...             ...      ...      ...      ...        ...       ...        ...\n",
              "2023-02-06  1575.00  1615.00  1435.20  1572.70    1572.70  19308603 2023-02-06\n",
              "2023-02-07  1571.00  1962.70  1525.60  1802.95    1802.95  19188072 2023-02-07\n",
              "2023-02-08  1869.85  2222.15  1840.85  2164.25    2164.25  19173006 2023-02-08\n",
              "2023-02-09  2168.00  2168.00  1731.40  1925.70    1925.70  18279862 2023-02-09\n",
              "2023-02-10  1769.00  1990.00  1733.15  1846.95    1846.95  11334878 2023-02-10\n",
              "\n",
              "[776 rows x 7 columns]"
            ],
            "text/html": [
              "\n",
              "  <div id=\"df-90fa20dc-b305-4311-8616-4deef1cc592f\">\n",
              "    <div class=\"colab-df-container\">\n",
              "      <div>\n",
              "<style scoped>\n",
              "    .dataframe tbody tr th:only-of-type {\n",
              "        vertical-align: middle;\n",
              "    }\n",
              "\n",
              "    .dataframe tbody tr th {\n",
              "        vertical-align: top;\n",
              "    }\n",
              "\n",
              "    .dataframe thead th {\n",
              "        text-align: right;\n",
              "    }\n",
              "</style>\n",
              "<table border=\"1\" class=\"dataframe\">\n",
              "  <thead>\n",
              "    <tr style=\"text-align: right;\">\n",
              "      <th></th>\n",
              "      <th>Open</th>\n",
              "      <th>High</th>\n",
              "      <th>Low</th>\n",
              "      <th>Close</th>\n",
              "      <th>Adj Close</th>\n",
              "      <th>Volume</th>\n",
              "      <th>Date</th>\n",
              "    </tr>\n",
              "    <tr>\n",
              "      <th>Date</th>\n",
              "      <th></th>\n",
              "      <th></th>\n",
              "      <th></th>\n",
              "      <th></th>\n",
              "      <th></th>\n",
              "      <th></th>\n",
              "      <th></th>\n",
              "    </tr>\n",
              "  </thead>\n",
              "  <tbody>\n",
              "    <tr>\n",
              "      <th>2020-01-01</th>\n",
              "      <td>209.00</td>\n",
              "      <td>210.45</td>\n",
              "      <td>206.65</td>\n",
              "      <td>207.85</td>\n",
              "      <td>206.12</td>\n",
              "      <td>1553127</td>\n",
              "      <td>2020-01-01</td>\n",
              "    </tr>\n",
              "    <tr>\n",
              "      <th>2020-01-02</th>\n",
              "      <td>208.00</td>\n",
              "      <td>213.20</td>\n",
              "      <td>207.50</td>\n",
              "      <td>211.20</td>\n",
              "      <td>209.44</td>\n",
              "      <td>2991937</td>\n",
              "      <td>2020-01-02</td>\n",
              "    </tr>\n",
              "    <tr>\n",
              "      <th>2020-01-03</th>\n",
              "      <td>210.25</td>\n",
              "      <td>212.35</td>\n",
              "      <td>205.80</td>\n",
              "      <td>208.30</td>\n",
              "      <td>206.56</td>\n",
              "      <td>2512421</td>\n",
              "      <td>2020-01-03</td>\n",
              "    </tr>\n",
              "    <tr>\n",
              "      <th>2020-01-06</th>\n",
              "      <td>207.75</td>\n",
              "      <td>207.75</td>\n",
              "      <td>197.75</td>\n",
              "      <td>199.55</td>\n",
              "      <td>197.89</td>\n",
              "      <td>4353179</td>\n",
              "      <td>2020-01-06</td>\n",
              "    </tr>\n",
              "    <tr>\n",
              "      <th>2020-01-07</th>\n",
              "      <td>200.55</td>\n",
              "      <td>205.70</td>\n",
              "      <td>200.55</td>\n",
              "      <td>204.05</td>\n",
              "      <td>202.35</td>\n",
              "      <td>2966120</td>\n",
              "      <td>2020-01-07</td>\n",
              "    </tr>\n",
              "    <tr>\n",
              "      <th>...</th>\n",
              "      <td>...</td>\n",
              "      <td>...</td>\n",
              "      <td>...</td>\n",
              "      <td>...</td>\n",
              "      <td>...</td>\n",
              "      <td>...</td>\n",
              "      <td>...</td>\n",
              "    </tr>\n",
              "    <tr>\n",
              "      <th>2023-02-06</th>\n",
              "      <td>1575.00</td>\n",
              "      <td>1615.00</td>\n",
              "      <td>1435.20</td>\n",
              "      <td>1572.70</td>\n",
              "      <td>1572.70</td>\n",
              "      <td>19308603</td>\n",
              "      <td>2023-02-06</td>\n",
              "    </tr>\n",
              "    <tr>\n",
              "      <th>2023-02-07</th>\n",
              "      <td>1571.00</td>\n",
              "      <td>1962.70</td>\n",
              "      <td>1525.60</td>\n",
              "      <td>1802.95</td>\n",
              "      <td>1802.95</td>\n",
              "      <td>19188072</td>\n",
              "      <td>2023-02-07</td>\n",
              "    </tr>\n",
              "    <tr>\n",
              "      <th>2023-02-08</th>\n",
              "      <td>1869.85</td>\n",
              "      <td>2222.15</td>\n",
              "      <td>1840.85</td>\n",
              "      <td>2164.25</td>\n",
              "      <td>2164.25</td>\n",
              "      <td>19173006</td>\n",
              "      <td>2023-02-08</td>\n",
              "    </tr>\n",
              "    <tr>\n",
              "      <th>2023-02-09</th>\n",
              "      <td>2168.00</td>\n",
              "      <td>2168.00</td>\n",
              "      <td>1731.40</td>\n",
              "      <td>1925.70</td>\n",
              "      <td>1925.70</td>\n",
              "      <td>18279862</td>\n",
              "      <td>2023-02-09</td>\n",
              "    </tr>\n",
              "    <tr>\n",
              "      <th>2023-02-10</th>\n",
              "      <td>1769.00</td>\n",
              "      <td>1990.00</td>\n",
              "      <td>1733.15</td>\n",
              "      <td>1846.95</td>\n",
              "      <td>1846.95</td>\n",
              "      <td>11334878</td>\n",
              "      <td>2023-02-10</td>\n",
              "    </tr>\n",
              "  </tbody>\n",
              "</table>\n",
              "<p>776 rows × 7 columns</p>\n",
              "</div>\n",
              "      <button class=\"colab-df-convert\" onclick=\"convertToInteractive('df-90fa20dc-b305-4311-8616-4deef1cc592f')\"\n",
              "              title=\"Convert this dataframe to an interactive table.\"\n",
              "              style=\"display:none;\">\n",
              "        \n",
              "  <svg xmlns=\"http://www.w3.org/2000/svg\" height=\"24px\"viewBox=\"0 0 24 24\"\n",
              "       width=\"24px\">\n",
              "    <path d=\"M0 0h24v24H0V0z\" fill=\"none\"/>\n",
              "    <path d=\"M18.56 5.44l.94 2.06.94-2.06 2.06-.94-2.06-.94-.94-2.06-.94 2.06-2.06.94zm-11 1L8.5 8.5l.94-2.06 2.06-.94-2.06-.94L8.5 2.5l-.94 2.06-2.06.94zm10 10l.94 2.06.94-2.06 2.06-.94-2.06-.94-.94-2.06-.94 2.06-2.06.94z\"/><path d=\"M17.41 7.96l-1.37-1.37c-.4-.4-.92-.59-1.43-.59-.52 0-1.04.2-1.43.59L10.3 9.45l-7.72 7.72c-.78.78-.78 2.05 0 2.83L4 21.41c.39.39.9.59 1.41.59.51 0 1.02-.2 1.41-.59l7.78-7.78 2.81-2.81c.8-.78.8-2.07 0-2.86zM5.41 20L4 18.59l7.72-7.72 1.47 1.35L5.41 20z\"/>\n",
              "  </svg>\n",
              "      </button>\n",
              "      \n",
              "  <style>\n",
              "    .colab-df-container {\n",
              "      display:flex;\n",
              "      flex-wrap:wrap;\n",
              "      gap: 12px;\n",
              "    }\n",
              "\n",
              "    .colab-df-convert {\n",
              "      background-color: #E8F0FE;\n",
              "      border: none;\n",
              "      border-radius: 50%;\n",
              "      cursor: pointer;\n",
              "      display: none;\n",
              "      fill: #1967D2;\n",
              "      height: 32px;\n",
              "      padding: 0 0 0 0;\n",
              "      width: 32px;\n",
              "    }\n",
              "\n",
              "    .colab-df-convert:hover {\n",
              "      background-color: #E2EBFA;\n",
              "      box-shadow: 0px 1px 2px rgba(60, 64, 67, 0.3), 0px 1px 3px 1px rgba(60, 64, 67, 0.15);\n",
              "      fill: #174EA6;\n",
              "    }\n",
              "\n",
              "    [theme=dark] .colab-df-convert {\n",
              "      background-color: #3B4455;\n",
              "      fill: #D2E3FC;\n",
              "    }\n",
              "\n",
              "    [theme=dark] .colab-df-convert:hover {\n",
              "      background-color: #434B5C;\n",
              "      box-shadow: 0px 1px 3px 1px rgba(0, 0, 0, 0.15);\n",
              "      filter: drop-shadow(0px 1px 2px rgba(0, 0, 0, 0.3));\n",
              "      fill: #FFFFFF;\n",
              "    }\n",
              "  </style>\n",
              "\n",
              "      <script>\n",
              "        const buttonEl =\n",
              "          document.querySelector('#df-90fa20dc-b305-4311-8616-4deef1cc592f button.colab-df-convert');\n",
              "        buttonEl.style.display =\n",
              "          google.colab.kernel.accessAllowed ? 'block' : 'none';\n",
              "\n",
              "        async function convertToInteractive(key) {\n",
              "          const element = document.querySelector('#df-90fa20dc-b305-4311-8616-4deef1cc592f');\n",
              "          const dataTable =\n",
              "            await google.colab.kernel.invokeFunction('convertToInteractive',\n",
              "                                                     [key], {});\n",
              "          if (!dataTable) return;\n",
              "\n",
              "          const docLinkHtml = 'Like what you see? Visit the ' +\n",
              "            '<a target=\"_blank\" href=https://colab.research.google.com/notebooks/data_table.ipynb>data table notebook</a>'\n",
              "            + ' to learn more about interactive tables.';\n",
              "          element.innerHTML = '';\n",
              "          dataTable['output_type'] = 'display_data';\n",
              "          await google.colab.output.renderOutput(dataTable, element);\n",
              "          const docLink = document.createElement('div');\n",
              "          docLink.innerHTML = docLinkHtml;\n",
              "          element.appendChild(docLink);\n",
              "        }\n",
              "      </script>\n",
              "    </div>\n",
              "  </div>\n",
              "  "
            ]
          },
          "metadata": {},
          "execution_count": 17
        }
      ]
    },
    {
      "cell_type": "markdown",
      "source": [
        "Check rage of data as per DATE"
      ],
      "metadata": {
        "id": "8AulEDMOlGzL"
      }
    },
    {
      "cell_type": "code",
      "source": [
        "print(\"Starting date: \",df.iloc[0][-1])\n",
        "print(\"Ending date: \", df.iloc[-1][-1])\n",
        "print(\"Duration: \", df.iloc[-1][-1]-df.iloc[0][-1])"
      ],
      "metadata": {
        "colab": {
          "base_uri": "https://localhost:8080/"
        },
        "id": "zjRPH0-ykwhu",
        "outputId": "918065a3-4e54-44da-ad48-3f66d6f47965"
      },
      "execution_count": 18,
      "outputs": [
        {
          "output_type": "stream",
          "name": "stdout",
          "text": [
            "Starting date:  2020-01-01 00:00:00\n",
            "Ending date:  2023-02-10 00:00:00\n",
            "Duration:  1136 days 00:00:00\n"
          ]
        }
      ]
    },
    {
      "cell_type": "markdown",
      "source": [
        "Monthly data"
      ],
      "metadata": {
        "id": "Af3hyVNOllD6"
      }
    },
    {
      "cell_type": "code",
      "source": [
        "monthvise= df.groupby(df['Date'].dt.strftime('%B'))[['Open','Close']].mean().sort_values(by='Close')"
      ],
      "metadata": {
        "id": "gU2AIFHMlOwG"
      },
      "execution_count": 19,
      "outputs": []
    },
    {
      "cell_type": "code",
      "source": [
        "monthvise"
      ],
      "metadata": {
        "colab": {
          "base_uri": "https://localhost:8080/",
          "height": 457
        },
        "id": "Q6bpbePWlre0",
        "outputId": "a3794f95-ba0b-46d8-cf02-03b91008666f"
      },
      "execution_count": 20,
      "outputs": [
        {
          "output_type": "execute_result",
          "data": {
            "text/plain": [
              "                  Open        Close\n",
              "Date                               \n",
              "March       951.176190   955.553175\n",
              "February   1023.341791  1009.479104\n",
              "April      1184.605357  1189.132143\n",
              "May        1235.105000  1230.002500\n",
              "June       1284.721212  1285.371212\n",
              "July       1289.846154  1291.502308\n",
              "January    1501.656548  1490.852976\n",
              "August     1508.315323  1519.850000\n",
              "October    1667.537500  1660.111667\n",
              "September  1787.856923  1786.126154\n",
              "November   1996.344262  2007.223770\n",
              "December   2026.534328  2024.473881"
            ],
            "text/html": [
              "\n",
              "  <div id=\"df-cf585a4d-65c8-4545-b05d-7d8e9da31593\">\n",
              "    <div class=\"colab-df-container\">\n",
              "      <div>\n",
              "<style scoped>\n",
              "    .dataframe tbody tr th:only-of-type {\n",
              "        vertical-align: middle;\n",
              "    }\n",
              "\n",
              "    .dataframe tbody tr th {\n",
              "        vertical-align: top;\n",
              "    }\n",
              "\n",
              "    .dataframe thead th {\n",
              "        text-align: right;\n",
              "    }\n",
              "</style>\n",
              "<table border=\"1\" class=\"dataframe\">\n",
              "  <thead>\n",
              "    <tr style=\"text-align: right;\">\n",
              "      <th></th>\n",
              "      <th>Open</th>\n",
              "      <th>Close</th>\n",
              "    </tr>\n",
              "    <tr>\n",
              "      <th>Date</th>\n",
              "      <th></th>\n",
              "      <th></th>\n",
              "    </tr>\n",
              "  </thead>\n",
              "  <tbody>\n",
              "    <tr>\n",
              "      <th>March</th>\n",
              "      <td>951.176190</td>\n",
              "      <td>955.553175</td>\n",
              "    </tr>\n",
              "    <tr>\n",
              "      <th>February</th>\n",
              "      <td>1023.341791</td>\n",
              "      <td>1009.479104</td>\n",
              "    </tr>\n",
              "    <tr>\n",
              "      <th>April</th>\n",
              "      <td>1184.605357</td>\n",
              "      <td>1189.132143</td>\n",
              "    </tr>\n",
              "    <tr>\n",
              "      <th>May</th>\n",
              "      <td>1235.105000</td>\n",
              "      <td>1230.002500</td>\n",
              "    </tr>\n",
              "    <tr>\n",
              "      <th>June</th>\n",
              "      <td>1284.721212</td>\n",
              "      <td>1285.371212</td>\n",
              "    </tr>\n",
              "    <tr>\n",
              "      <th>July</th>\n",
              "      <td>1289.846154</td>\n",
              "      <td>1291.502308</td>\n",
              "    </tr>\n",
              "    <tr>\n",
              "      <th>January</th>\n",
              "      <td>1501.656548</td>\n",
              "      <td>1490.852976</td>\n",
              "    </tr>\n",
              "    <tr>\n",
              "      <th>August</th>\n",
              "      <td>1508.315323</td>\n",
              "      <td>1519.850000</td>\n",
              "    </tr>\n",
              "    <tr>\n",
              "      <th>October</th>\n",
              "      <td>1667.537500</td>\n",
              "      <td>1660.111667</td>\n",
              "    </tr>\n",
              "    <tr>\n",
              "      <th>September</th>\n",
              "      <td>1787.856923</td>\n",
              "      <td>1786.126154</td>\n",
              "    </tr>\n",
              "    <tr>\n",
              "      <th>November</th>\n",
              "      <td>1996.344262</td>\n",
              "      <td>2007.223770</td>\n",
              "    </tr>\n",
              "    <tr>\n",
              "      <th>December</th>\n",
              "      <td>2026.534328</td>\n",
              "      <td>2024.473881</td>\n",
              "    </tr>\n",
              "  </tbody>\n",
              "</table>\n",
              "</div>\n",
              "      <button class=\"colab-df-convert\" onclick=\"convertToInteractive('df-cf585a4d-65c8-4545-b05d-7d8e9da31593')\"\n",
              "              title=\"Convert this dataframe to an interactive table.\"\n",
              "              style=\"display:none;\">\n",
              "        \n",
              "  <svg xmlns=\"http://www.w3.org/2000/svg\" height=\"24px\"viewBox=\"0 0 24 24\"\n",
              "       width=\"24px\">\n",
              "    <path d=\"M0 0h24v24H0V0z\" fill=\"none\"/>\n",
              "    <path d=\"M18.56 5.44l.94 2.06.94-2.06 2.06-.94-2.06-.94-.94-2.06-.94 2.06-2.06.94zm-11 1L8.5 8.5l.94-2.06 2.06-.94-2.06-.94L8.5 2.5l-.94 2.06-2.06.94zm10 10l.94 2.06.94-2.06 2.06-.94-2.06-.94-.94-2.06-.94 2.06-2.06.94z\"/><path d=\"M17.41 7.96l-1.37-1.37c-.4-.4-.92-.59-1.43-.59-.52 0-1.04.2-1.43.59L10.3 9.45l-7.72 7.72c-.78.78-.78 2.05 0 2.83L4 21.41c.39.39.9.59 1.41.59.51 0 1.02-.2 1.41-.59l7.78-7.78 2.81-2.81c.8-.78.8-2.07 0-2.86zM5.41 20L4 18.59l7.72-7.72 1.47 1.35L5.41 20z\"/>\n",
              "  </svg>\n",
              "      </button>\n",
              "      \n",
              "  <style>\n",
              "    .colab-df-container {\n",
              "      display:flex;\n",
              "      flex-wrap:wrap;\n",
              "      gap: 12px;\n",
              "    }\n",
              "\n",
              "    .colab-df-convert {\n",
              "      background-color: #E8F0FE;\n",
              "      border: none;\n",
              "      border-radius: 50%;\n",
              "      cursor: pointer;\n",
              "      display: none;\n",
              "      fill: #1967D2;\n",
              "      height: 32px;\n",
              "      padding: 0 0 0 0;\n",
              "      width: 32px;\n",
              "    }\n",
              "\n",
              "    .colab-df-convert:hover {\n",
              "      background-color: #E2EBFA;\n",
              "      box-shadow: 0px 1px 2px rgba(60, 64, 67, 0.3), 0px 1px 3px 1px rgba(60, 64, 67, 0.15);\n",
              "      fill: #174EA6;\n",
              "    }\n",
              "\n",
              "    [theme=dark] .colab-df-convert {\n",
              "      background-color: #3B4455;\n",
              "      fill: #D2E3FC;\n",
              "    }\n",
              "\n",
              "    [theme=dark] .colab-df-convert:hover {\n",
              "      background-color: #434B5C;\n",
              "      box-shadow: 0px 1px 3px 1px rgba(0, 0, 0, 0.15);\n",
              "      filter: drop-shadow(0px 1px 2px rgba(0, 0, 0, 0.3));\n",
              "      fill: #FFFFFF;\n",
              "    }\n",
              "  </style>\n",
              "\n",
              "      <script>\n",
              "        const buttonEl =\n",
              "          document.querySelector('#df-cf585a4d-65c8-4545-b05d-7d8e9da31593 button.colab-df-convert');\n",
              "        buttonEl.style.display =\n",
              "          google.colab.kernel.accessAllowed ? 'block' : 'none';\n",
              "\n",
              "        async function convertToInteractive(key) {\n",
              "          const element = document.querySelector('#df-cf585a4d-65c8-4545-b05d-7d8e9da31593');\n",
              "          const dataTable =\n",
              "            await google.colab.kernel.invokeFunction('convertToInteractive',\n",
              "                                                     [key], {});\n",
              "          if (!dataTable) return;\n",
              "\n",
              "          const docLinkHtml = 'Like what you see? Visit the ' +\n",
              "            '<a target=\"_blank\" href=https://colab.research.google.com/notebooks/data_table.ipynb>data table notebook</a>'\n",
              "            + ' to learn more about interactive tables.';\n",
              "          element.innerHTML = '';\n",
              "          dataTable['output_type'] = 'display_data';\n",
              "          await google.colab.output.renderOutput(dataTable, element);\n",
              "          const docLink = document.createElement('div');\n",
              "          docLink.innerHTML = docLinkHtml;\n",
              "          element.appendChild(docLink);\n",
              "        }\n",
              "      </script>\n",
              "    </div>\n",
              "  </div>\n",
              "  "
            ]
          },
          "metadata": {},
          "execution_count": 20
        }
      ]
    },
    {
      "cell_type": "code",
      "source": [
        "monthvise.plot(kind = 'bar', figsize = (20,5))\n",
        "plt.title(\"Monthwise comparision between Stock open and close price\", fontsize = 18)"
      ],
      "metadata": {
        "colab": {
          "base_uri": "https://localhost:8080/",
          "height": 415
        },
        "id": "9XoKcsEulyVM",
        "outputId": "e7076a26-4879-4b08-c13a-b2897a525ced"
      },
      "execution_count": 21,
      "outputs": [
        {
          "output_type": "execute_result",
          "data": {
            "text/plain": [
              "Text(0.5, 1.0, 'Monthwise comparision between Stock open and close price')"
            ]
          },
          "metadata": {},
          "execution_count": 21
        },
        {
          "output_type": "display_data",
          "data": {
            "text/plain": [
              "<Figure size 1440x360 with 1 Axes>"
            ],
            "image/png": "[encoded data removed]"
          },
          "metadata": {
            "needs_background": "light"
          }
        }
      ]
    },
    {
      "cell_type": "markdown",
      "source": [
        "Minimum low price in each month"
      ],
      "metadata": {
        "id": "PizOFmfLnAYf"
      }
    },
    {
      "cell_type": "code",
      "source": [
        "df.groupby(df['Date'].dt.strftime('%B'))['Low'].min()"
      ],
      "metadata": {
        "colab": {
          "base_uri": "https://localhost:8080/"
        },
        "id": "hCcijkX4mvhI",
        "outputId": "b96d23e8-2b5c-4755-822f-63f2e41daafa"
      },
      "execution_count": 22,
      "outputs": [
        {
          "output_type": "execute_result",
          "data": {
            "text/plain": [
              "Date\n",
              "April        128.00\n",
              "August       171.20\n",
              "December     395.10\n",
              "February     215.60\n",
              "January      194.55\n",
              "July         145.20\n",
              "June         141.00\n",
              "March        116.40\n",
              "May          127.30\n",
              "November     333.05\n",
              "October      296.00\n",
              "September    257.50\n",
              "Name: Low, dtype: float64"
            ]
          },
          "metadata": {},
          "execution_count": 22
        }
      ]
    },
    {
      "cell_type": "markdown",
      "source": [
        "Maximum low price in each month"
      ],
      "metadata": {
        "id": "ZkE5N3gCnnBE"
      }
    },
    {
      "cell_type": "code",
      "source": [
        "df.groupby(df['Date'].dt.strftime('%B'))['Low'].max()\n"
      ],
      "metadata": {
        "colab": {
          "base_uri": "https://localhost:8080/"
        },
        "id": "8cpMCndznmaV",
        "outputId": "8a60ec23-4365-4981-c5ab-b11912ab540e"
      },
      "execution_count": 23,
      "outputs": [
        {
          "output_type": "execute_result",
          "data": {
            "text/plain": [
              "Date\n",
              "April        2336.30\n",
              "August       3161.00\n",
              "December     4066.40\n",
              "February     1941.20\n",
              "January      3822.55\n",
              "July         2560.00\n",
              "June         2207.05\n",
              "March        1991.00\n",
              "May          2311.00\n",
              "November     4022.00\n",
              "October      3326.10\n",
              "September    3812.00\n",
              "Name: Low, dtype: float64"
            ]
          },
          "metadata": {},
          "execution_count": 23
        }
      ]
    },
    {
      "cell_type": "markdown",
      "source": [
        "Minimum high price in each month"
      ],
      "metadata": {
        "id": "dCPcu4hAoIiC"
      }
    },
    {
      "cell_type": "code",
      "source": [
        "df.groupby(df['Date'].dt.strftime('%B'))['High'].min()"
      ],
      "metadata": {
        "colab": {
          "base_uri": "https://localhost:8080/"
        },
        "id": "RjEoHqDloCok",
        "outputId": "99028870-ff0e-486f-fd02-d70cc16f077d"
      },
      "execution_count": 24,
      "outputs": [
        {
          "output_type": "execute_result",
          "data": {
            "text/plain": [
              "Date\n",
              "April        134.60\n",
              "August       178.70\n",
              "December     423.95\n",
              "February     224.65\n",
              "January      203.55\n",
              "July         150.00\n",
              "June         148.45\n",
              "March        129.80\n",
              "May          135.40\n",
              "November     344.30\n",
              "October      311.95\n",
              "September    281.25\n",
              "Name: High, dtype: float64"
            ]
          },
          "metadata": {},
          "execution_count": 24
        }
      ]
    },
    {
      "cell_type": "markdown",
      "source": [
        "Maximum high price in each month"
      ],
      "metadata": {
        "id": "RXtUq4evoUjx"
      }
    },
    {
      "cell_type": "code",
      "source": [
        " df.groupby(df['Date'].dt.strftime('%B'))['High'].max()"
      ],
      "metadata": {
        "colab": {
          "base_uri": "https://localhost:8080/"
        },
        "id": "lS2TTan3oSPz",
        "outputId": "6e87b383-9306-45ba-c535-f94226d26850"
      },
      "execution_count": 25,
      "outputs": [
        {
          "output_type": "execute_result",
          "data": {
            "text/plain": [
              "Date\n",
              "April        2420.95\n",
              "August       3263.10\n",
              "December     4190.00\n",
              "February     3010.75\n",
              "January      3880.00\n",
              "July         2622.00\n",
              "June         2274.00\n",
              "March        2042.00\n",
              "May          2362.90\n",
              "November     4096.00\n",
              "October      3460.05\n",
              "September    3885.00\n",
              "Name: High, dtype: float64"
            ]
          },
          "metadata": {},
          "execution_count": 25
        }
      ]
    },
    {
      "cell_type": "code",
      "source": [
        "monthvise['monthvise_high']= df.groupby(df['Date'].dt.strftime('%B'))['High'].max()\n",
        "monthvise['monthvise_low']= df.groupby(df['Date'].dt.strftime('%B'))['Low'].min()"
      ],
      "metadata": {
        "id": "vqJwbBcWoWgc"
      },
      "execution_count": 26,
      "outputs": []
    },
    {
      "cell_type": "code",
      "source": [
        "monthvise[['monthvise_high', 'monthvise_low']].plot(kind = 'bar', figsize=(20,5))\n",
        "plt.title(\"Monthwise High and Low stock price\", fontsize = 18)"
      ],
      "metadata": {
        "colab": {
          "base_uri": "https://localhost:8080/",
          "height": 415
        },
        "id": "-KQn9_XDojQT",
        "outputId": "dca26f4c-8e46-4891-bfd7-a9cfc316da4c"
      },
      "execution_count": 27,
      "outputs": [
        {
          "output_type": "execute_result",
          "data": {
            "text/plain": [
              "Text(0.5, 1.0, 'Monthwise High and Low stock price')"
            ]
          },
          "metadata": {},
          "execution_count": 27
        },
        {
          "output_type": "display_data",
          "data": {
            "text/plain": [
              "<Figure size 1440x360 with 1 Axes>"
            ],
            "image/png": "[encoded data removed]"
          },
          "metadata": {
            "needs_background": "light"
          }
        }
      ]
    },
    {
      "cell_type": "code",
      "source": [
        "plt.figure(figsize=(20,5))\n",
        "sns.lineplot(data=df[['Open','High','Low','Close']])\n",
        "plt.title(\"Stock analysis chart\",fontsize=18)"
      ],
      "metadata": {
        "colab": {
          "base_uri": "https://localhost:8080/",
          "height": 371
        },
        "id": "Fs5DbNV2o265",
        "outputId": "2dd94130-68d4-4496-d32a-23b98bff9261"
      },
      "execution_count": 28,
      "outputs": [
        {
          "output_type": "execute_result",
          "data": {
            "text/plain": [
              "Text(0.5, 1.0, 'Stock analysis chart')"
            ]
          },
          "metadata": {},
          "execution_count": 28
        },
        {
          "output_type": "display_data",
          "data": {
            "text/plain": [
              "<Figure size 1440x360 with 1 Axes>"
            ],
            "image/png": "[encoded data removed]"
          },
          "metadata": {
            "needs_background": "light"
          }
        }
      ]
    },
    {
      "cell_type": "code",
      "source": [
        "closedf = df[['Date','Close']]\n",
        "print(\"Shape of close dataframe:\", closedf.shape)\n"
      ],
      "metadata": {
        "colab": {
          "base_uri": "https://localhost:8080/"
        },
        "id": "Uh2rXJ3dp_Eu",
        "outputId": "921e348d-7eed-4879-a27a-3506b98a26da"
      },
      "execution_count": 29,
      "outputs": [
        {
          "output_type": "stream",
          "name": "stdout",
          "text": [
            "Shape of close dataframe: (776, 2)\n"
          ]
        }
      ]
    },
    {
      "cell_type": "code",
      "source": [
        "plt.figure(figsize=(20,5))\n",
        "sns.lineplot(data=closedf)\n",
        "plt.title(\"Stock close price chart\",fontsize=18)\n"
      ],
      "metadata": {
        "colab": {
          "base_uri": "https://localhost:8080/",
          "height": 371
        },
        "id": "nqrQtVybrRsy",
        "outputId": "fe9ee4f8-05c9-4252-a9be-a6e4f6bbc716"
      },
      "execution_count": 30,
      "outputs": [
        {
          "output_type": "execute_result",
          "data": {
            "text/plain": [
              "Text(0.5, 1.0, 'Stock close price chart')"
            ]
          },
          "metadata": {},
          "execution_count": 30
        },
        {
          "output_type": "display_data",
          "data": {
            "text/plain": [
              "<Figure size 1440x360 with 1 Axes>"
            ],
            "image/png": "[encoded data removed]"
          },
          "metadata": {
            "needs_background": "light"
          }
        }
      ]
    },
    {
      "cell_type": "markdown",
      "source": [
        "Evaluation Metrics\n",
        "\n",
        "---------------------------------------------------\n",
        "mean_squared_error:-\n",
        "---------------------------------------------------\n",
        "\n",
        "This is a metric that measures the average squared difference between the predicted and actual values. It is calculated as the mean of the squared differences between the predicted and actual values. This metric is useful\n",
        "for penalizing large errors in the predictions, and is commonly used as a loss function during training. However, it can be sensitive to outliers and does not provide an easily interpretable measure of error in the original\n",
        "units of the response variable.\n"
      ],
      "metadata": {
        "id": "Ia05qjqKrtlG"
      }
    },
    {
      "cell_type": "markdown",
      "source": [
        "mean_absolute_error:\n",
        "------------------------------------------------------------------------------------------------------------------------------\n",
        "This is a metric that measures the average absolute difference between the predicted and actual values. It is calculated as the mean of the absolute differences between the predicted and actual values. This metric\n",
        "provides an easily interpretable measure of error in the original units of the response variable, and is less sensitive to outliers than the mean squared error.\n"
      ],
      "metadata": {
        "id": "oJ61DAwssLfM"
      }
    },
    {
      "cell_type": "markdown",
      "source": [
        "explained_variance_score:\n",
        "----------------------------------------------------------------------------------\n",
        "This is a metric that measures the proportion of variance in the target variable that is explained by the model. It is calculated as 1 - (variance of residuals / variance of target variable). This metric provides an indication of\n",
        "how well the model fits the data and can be interpreted as the amount of information captured by the model."
      ],
      "metadata": {
        "id": "48vZz5yzsSNU"
      }
    },
    {
      "cell_type": "markdown",
      "source": [
        "r2_score:\n",
        "-----------------\n",
        "This is a metric that measures the proportion of variance in the target variable that is explained by the model, normalized by the total variance in the target variable. It is calculated as 1 - (sum of squared residuals / total\n",
        "sum of squares). This metric provides a normalized indication of how well the model fits the data, and can be interpreted as the percentage of variance in the target variable that is explained by the model. It ranges from 0\n",
        "to 1, with 1 indicating a perfect fit and values close to 0 indicating poor performance."
      ],
      "metadata": {
        "id": "hdUt8j5DsiSX"
      }
    },
    {
      "cell_type": "markdown",
      "source": [
        "mean_poisson_deviance:\n",
        "-------------------\n",
        "It is a metric that measures the goodness of fit of a Poisson regression model. It compares the predicted values of the model with the observed values and calculates the mean deviation of the predicted values from the\n",
        "observed values. A lower value of this metric indicates a better fit of the model to the data."
      ],
      "metadata": {
        "id": "LozM87pHsviC"
      }
    },
    {
      "cell_type": "markdown",
      "source": [
        "mean_gamma_deviance:\n",
        "-----\n",
        "It is a metric that measures the goodness of fit of a Gamma regression model. It compares the predicted values of the model with the observed values and calculates the mean deviation of the predicted values from the\n",
        "observed values. A lower value of this metric indicates a better fit of the model to the data.\n"
      ],
      "metadata": {
        "id": "zx4Veihws5wC"
      }
    },
    {
      "cell_type": "markdown",
      "source": [
        "accuracy_score:\n",
        "-----------\n",
        "It is a metric used to evaluate the performance of a classification model. It calculates the proportion of correctly predicted labels to the total number of samples. A higher value of this metric indicates a better classification\n",
        "performance of the model."
      ],
      "metadata": {
        "id": "G8woHm4vs-fB"
      }
    },
    {
      "cell_type": "markdown",
      "source": [
        "Scaling\n",
        "--\n",
        "MinMaxScaler:\n",
        "-----------------\n",
        "MinMaxScaler is a technique used in data preprocessing to scale and transform features or variables of a dataset to a particular range, usually between 0 and 1. This technique helps to normalize the data and make it\n",
        "more consistent, making it easier to compare and analyze the data.\n",
        "MinMaxScaler is a simple linear scaling technique that works by subtracting the minimum value of the feature and then dividing by the range (i.e., the difference between the maximum and minimum values) of the feature.\n",
        "The resulting values are then rescaled to fit within the desired range.\n",
        "\n",
        "\n",
        "MinMaxScaler is commonly used in machine learning algorithms, especially in algorithms that involve distance calculations or optimization, such as clustering, gradient descent, and neural networks. It helps to improve the\n",
        "performance of the algorithms by reducing the influence of the scale of the variables on the model.\n"
      ],
      "metadata": {
        "id": "D79iQOSStNYB"
      }
    },
    {
      "cell_type": "code",
      "source": [
        "from sklearn.metrics import mean_squared_error, mean_absolute_error, explained_variance_score, r2_score\n",
        "from sklearn.metrics import mean_poisson_deviance, mean_gamma_deviance, accuracy_score\n",
        "from sklearn.preprocessing import MinMaxScaler"
      ],
      "metadata": {
        "id": "ydoiypl4tRfK"
      },
      "execution_count": 31,
      "outputs": []
    },
    {
      "cell_type": "markdown",
      "source": [
        "Model Creation\n",
        "-"
      ],
      "metadata": {
        "id": "SvCvLVaf9iSS"
      }
    },
    {
      "cell_type": "code",
      "source": [
        "import tensorflow as tf\n",
        "from tensorflow.keras.models import Sequential\n",
        "from tensorflow.keras.layers import Dense\n",
        "from tensorflow.keras.layers import LSTM, GRU\n"
      ],
      "metadata": {
        "id": "vKycfPde9mnX"
      },
      "execution_count": 32,
      "outputs": []
    },
    {
      "cell_type": "code",
      "source": [
        "close_stock = closedf.copy()\n",
        "del closedf['Date']\n",
        "scaler=MinMaxScaler(feature_range=(0,1))\n",
        "closedf=scaler.fit_transform(np.array(closedf).reshape(-1,1))\n",
        "print(closedf.shape)\n"
      ],
      "metadata": {
        "colab": {
          "base_uri": "https://localhost:8080/"
        },
        "id": "X_-1vAkc9qpt",
        "outputId": "106e0628-48e1-4c7b-8339-298819c2ed05"
      },
      "execution_count": 33,
      "outputs": [
        {
          "output_type": "stream",
          "name": "stdout",
          "text": [
            "(776, 1)\n"
          ]
        }
      ]
    },
    {
      "cell_type": "code",
      "source": [
        "training_size=int(len(closedf)*0.75)\n",
        "test_size=len(closedf)-training_size\n",
        "train_data,test_data=closedf[0:training_size,:],closedf[training_size:len(closedf),:1]\n",
        "print(\"train_data: \", train_data.shape)\n",
        "print(\"test_data: \", test_data.shape)\n",
        "# print(train_data)\n",
        "# print(test_data)"
      ],
      "metadata": {
        "id": "HW_5TWF1s_ZM",
        "colab": {
          "base_uri": "https://localhost:8080/"
        },
        "outputId": "f71427b2-71fc-4ebc-ae94-3a846d9bb122"
      },
      "execution_count": 34,
      "outputs": [
        {
          "output_type": "stream",
          "name": "stdout",
          "text": [
            "train_data:  (582, 1)\n",
            "test_data:  (194, 1)\n"
          ]
        }
      ]
    },
    {
      "cell_type": "markdown",
      "source": [
        "# convert an array of values into a dataset matrix\n",
        "-----------------\n",
        "\"\"\"\n",
        "This function creates a sliding window of size time_step over the input dataset and constructs a set of input-output pairs for training a time series forecasting model.\n",
        "The input matrix dataX contains n rows, where n is the number of time steps in the input sequence, and time_step columns, representing the past time_step values of the\n",
        "input sequence. The output matrix dataY contains n rows and 1 column,representing the next value in the sequence to be predicted.\n",
        "\"\"\""
      ],
      "metadata": {
        "id": "d2AmW_Ra-5oR"
      }
    },
    {
      "cell_type": "code",
      "source": [
        "def create_dataset(dataset, time_step=1):\n",
        " dataX, dataY = [], []\n",
        " for i in range(len(dataset)-time_step-1):\n",
        "      a = dataset[i:(i+time_step), 0]                                     #i=0, 0,1,2,3-----99 100\n",
        "      dataX.append(a)\n",
        "      dataY.append(dataset[i + time_step, 0])\n",
        " return np.array(dataX), np.array(dataY)"
      ],
      "metadata": {
        "id": "0CRIL9DC-6ud"
      },
      "execution_count": 36,
      "outputs": []
    },
    {
      "cell_type": "code",
      "source": [
        "# reshape into X=t,t+1,t+2,t+3 and Y=t+4\n",
        "time_step = 15\n",
        "X_train, y_train = create_dataset(train_data, time_step)\n",
        "X_test, y_test = create_dataset(test_data, time_step)\n",
        "print(\"X_train: \", X_train.shape)\n",
        "print(\"y_train: \", y_train.shape)\n",
        "print(\"X_test: \", X_test.shape)\n",
        "print(\"y_test\", y_test.shape)\n"
      ],
      "metadata": {
        "colab": {
          "base_uri": "https://localhost:8080/"
        },
        "id": "XcyQc6GR_7Zc",
        "outputId": "8674a2de-1479-4c09-80a1-d09a00cf90f3"
      },
      "execution_count": 37,
      "outputs": [
        {
          "output_type": "stream",
          "name": "stdout",
          "text": [
            "X_train:  (566, 15)\n",
            "y_train:  (566,)\n",
            "X_test:  (178, 15)\n",
            "y_test (178,)\n"
          ]
        }
      ]
    },
    {
      "cell_type": "markdown",
      "source": [
        "Support Vector Regressor\n",
        "-------------\n",
        "Support Vector Regressor (SVR) is a machine learning algorithm used for regression analysis. It is an extension of the popular Support Vector Machine (SVM) algorithm used for classification problems.\n",
        "\n",
        "SVR tries to fit a line or a curve through the data points in such a way that the margin between the predicted values and the actual values is minimized. The algorithm does this by identifying the support vectors, which are\n",
        "the data points closest to the line or curve being fitted, and using them to optimize the margin.\n",
        "\n",
        "SVR is particularly useful when dealing with nonlinear data, as it is able to transform the data into a higher dimensional space, where it can be more easily separated. It is also highly effective in dealing with noisy data, as\n",
        "it is able to effectively filter out the noise and identify the underlying trends in the data.\n",
        "\n",
        "In summary, SVR is a powerful regression algorithm that is highly effective in dealing with nonlinear and noisy data, making it a valuable tool for data scientists and machine learning practitioners."
      ],
      "metadata": {
        "id": "DfAcYzy0AD-B"
      }
    },
    {
      "cell_type": "code",
      "source": [
        "from sklearn.svm import SVR\n",
        "svr_rbf = SVR(kernel= 'rbf', C= 1e2, gamma= 0.1)\n",
        "svr_rbf.fit(X_train, y_train)"
      ],
      "metadata": {
        "colab": {
          "base_uri": "https://localhost:8080/"
        },
        "id": "-hQlV2rZAMAm",
        "outputId": "52f9eaaa-a659-4d8f-a6a8-9dda763122a1"
      },
      "execution_count": 39,
      "outputs": [
        {
          "output_type": "execute_result",
          "data": {
            "text/plain": [
              "SVR(C=100.0, gamma=0.1)"
            ]
          },
          "metadata": {},
          "execution_count": 39
        }
      ]
    },
    {
      "cell_type": "code",
      "source": [
        "# Lets Do the prediction\n",
        "train_predict =svr_rbf.predict(X_train)\n",
        "test_predict=svr_rbf.predict(X_test)\n",
        "print(train_predict.shape)\n",
        "print(test_predict.shape)\n",
        "train_predict = train_predict.reshape(-1,1)\n",
        "test_predict = test_predict.reshape(-1,1)\n",
        "print(\"Train data prediction:\", train_predict.shape)\n",
        "print(\"Test data prediction:\", test_predict.shape)\n"
      ],
      "metadata": {
        "id": "nNlv2fk3s6qE",
        "colab": {
          "base_uri": "https://localhost:8080/"
        },
        "outputId": "edaa6379-91cc-4a60-dc44-aeac604af0a7"
      },
      "execution_count": 40,
      "outputs": [
        {
          "output_type": "stream",
          "name": "stdout",
          "text": [
            "(566,)\n",
            "(178,)\n",
            "Train data prediction: (566, 1)\n",
            "Test data prediction: (178, 1)\n"
          ]
        }
      ]
    },
    {
      "cell_type": "code",
      "source": [
        "train_predict = scaler.inverse_transform(train_predict)\n",
        "test_predict = scaler.inverse_transform(test_predict)\n",
        "print(train_predict.shape)\n",
        "print(test_predict.shape)\n",
        "# print(train_predict)\n",
        "original_ytrain = scaler.inverse_transform(y_train.reshape(-1,1))\n",
        "original_ytest = scaler.inverse_transform(y_test.reshape(-1,1))\n",
        "print(original_ytrain.shape)\n",
        "print(original_ytest.shape)\n"
      ],
      "metadata": {
        "colab": {
          "base_uri": "https://localhost:8080/"
        },
        "id": "fbtbI7vqCQGL",
        "outputId": "3b05924b-6f5e-4fd5-89d4-8f1b2dbb9cec"
      },
      "execution_count": 42,
      "outputs": [
        {
          "output_type": "stream",
          "name": "stdout",
          "text": [
            "(566, 1)\n",
            "(178, 1)\n",
            "(566, 1)\n",
            "(178, 1)\n"
          ]
        }
      ]
    },
    {
      "cell_type": "code",
      "source": [
        " # Evaluation metrices RMSE and MAE\n",
        "print(\"---------------------------------------------------------------------------------------------------------\")\n",
        "print(\"Train data RMSE: \", np.sqrt(mean_squared_error(original_ytrain,train_predict)))\n",
        "print(\"Train data MSE: \", mean_squared_error(original_ytrain,train_predict))\n",
        "print(\"Test data MAE: \", mean_absolute_error(original_ytrain,train_predict))\n",
        "print(\"---------------------------------------------------------------------------------------------------------\")\n",
        "print(\"Test data RMSE: \", np.sqrt(mean_squared_error(original_ytest,test_predict)))\n",
        "print(\"Test data MSE: \", mean_squared_error(original_ytest,test_predict))\n",
        "print(\"Test data MAE: \", mean_absolute_error(original_ytest,test_predict))\n",
        "print(\"---------------------------------------------------------------------------------------------------------\")\n",
        "print(\"Train data explained variance regression score:\", explained_variance_score(original_ytrain, train_predict))\n",
        "print(\"Test data explained variance regression score:\", explained_variance_score(original_ytest, test_predict))\n",
        "print(\"---------------------------------------------------------------------------------------------------------\")\n",
        "print(\"Train data R2 score:\", r2_score(original_ytrain, train_predict))\n",
        "print(\"Test data R2 score:\", r2_score(original_ytest, test_predict))\n",
        "print(\"---------------------------------------------------------------------------------------------------------\")\n",
        "print(\"Train data MGD: \", mean_gamma_deviance(original_ytrain, train_predict))\n",
        "print(\"Test data MGD: \", mean_gamma_deviance(original_ytest, test_predict))\n",
        "print(\"---------------------------------------------------------------------------------------------------------\")\n",
        "print(\"Train data MPD: \", mean_poisson_deviance(original_ytrain, train_predict))\n",
        "print(\"Test data MPD: \", mean_poisson_deviance(original_ytest, test_predict))\n",
        "print(\"---------------------------------------------------------------------------------------------------------\")\n"
      ],
      "metadata": {
        "id": "oPllEppAsngt",
        "colab": {
          "base_uri": "https://localhost:8080/"
        },
        "outputId": "84d20584-94a3-41fd-abf4-72484566c61e"
      },
      "execution_count": 43,
      "outputs": [
        {
          "output_type": "stream",
          "name": "stdout",
          "text": [
            "---------------------------------------------------------------------------------------------------------\n",
            "Train data RMSE:  223.56371663422217\n",
            "Train data MSE:  49980.73539530679\n",
            "Test data MAE:  182.52147205638119\n",
            "---------------------------------------------------------------------------------------------------------\n",
            "Test data RMSE:  1018.6151462017375\n",
            "Test data MSE:  1037576.816071587\n",
            "Test data MAE:  891.8595375886738\n",
            "---------------------------------------------------------------------------------------------------------\n",
            "Train data explained variance regression score: 0.9203253647034753\n",
            "Test data explained variance regression score: 0.3674685081234186\n",
            "---------------------------------------------------------------------------------------------------------\n",
            "Train data R2 score: 0.8899002291580416\n",
            "Test data R2 score: -1.134778818453622\n",
            "---------------------------------------------------------------------------------------------------------\n",
            "Train data MGD:  0.27937958841738786\n",
            "Test data MGD:  0.13571715142418472\n",
            "---------------------------------------------------------------------------------------------------------\n",
            "Train data MPD:  108.34200696977018\n",
            "Test data MPD:  372.3713804549531\n",
            "---------------------------------------------------------------------------------------------------------\n"
          ]
        }
      ]
    },
    {
      "cell_type": "code",
      "source": [
        "plt.figure(figsize=(20,5))\n",
        "sns.lineplot(data=closedf)\n",
        "plt.title(\"Stock close price chart\",fontsize=18)\n"
      ],
      "metadata": {
        "id": "-I1idtY3sjnd",
        "colab": {
          "base_uri": "https://localhost:8080/",
          "height": 357
        },
        "outputId": "e548967d-1a80-4102-f38c-ce60a5c7df6d"
      },
      "execution_count": 44,
      "outputs": [
        {
          "output_type": "execute_result",
          "data": {
            "text/plain": [
              "Text(0.5, 1.0, 'Stock close price chart')"
            ]
          },
          "metadata": {},
          "execution_count": 44
        },
        {
          "output_type": "display_data",
          "data": {
            "text/plain": [
              "<Figure size 1440x360 with 1 Axes>"
            ],
            "image/png": "[encoded data removed]"
          },
          "metadata": {
            "needs_background": "light"
          }
        }
      ]
    },
    {
      "cell_type": "code",
      "source": [
        "# shift train predictions for plotting\n",
        "look_back=time_step\n",
        "trainPredictPlot = np.empty_like(closedf)\n",
        "trainPredictPlot[:, :] = np.nan\n",
        "trainPredictPlot[look_back:len(train_predict)+look_back, :] = train_predict\n",
        "print(\"Train predicted data: \", trainPredictPlot.shape)\n",
        "\n",
        "# shift test predictions for plotting\n",
        "testPredictPlot = np.empty_like(closedf)\n",
        "testPredictPlot[:, :] = np.nan\n",
        "testPredictPlot[len(train_predict)+(look_back*2)+1:len(closedf)-1, :] = test_predict\n",
        "print(\"Test predicted data: \", testPredictPlot.shape)\n",
        "plotdf = pd.DataFrame({'Date': close_stock['Date'],'original_close': close_stock['Close'],'train_predicted_close': trainPredictPlot.reshape(1,-1)[0].tolist(),\n",
        " 'test_predicted_close': testPredictPlot.reshape(1,-1)[0].tolist()})\n",
        "\n",
        "plt.figure(figsize=(20,5))\n",
        "sns.lineplot(data=plotdf)\n",
        "plt.title(\"Stock close price chart\",fontsize=18)"
      ],
      "metadata": {
        "id": "Ypksno7wsT2u",
        "colab": {
          "base_uri": "https://localhost:8080/",
          "height": 406
        },
        "outputId": "d920bf3d-241c-4bdb-b65a-195abfc233d8"
      },
      "execution_count": 46,
      "outputs": [
        {
          "output_type": "stream",
          "name": "stdout",
          "text": [
            "Train predicted data:  (776, 1)\n",
            "Test predicted data:  (776, 1)\n"
          ]
        },
        {
          "output_type": "execute_result",
          "data": {
            "text/plain": [
              "Text(0.5, 1.0, 'Stock close price chart')"
            ]
          },
          "metadata": {},
          "execution_count": 46
        },
        {
          "output_type": "display_data",
          "data": {
            "text/plain": [
              "<Figure size 1440x360 with 1 Axes>"
            ],
            "image/png": "[encoded data removed]"
          },
          "metadata": {
            "needs_background": "light"
          }
        }
      ]
    },
    {
      "cell_type": "code",
      "source": [
        "x_input=test_data[len(test_data)-time_step:].reshape(1,-1)\n",
        "temp_input=list(x_input)\n",
        "temp_input=temp_input[0].tolist()\n",
        "temp_input"
      ],
      "metadata": {
        "id": "ltVTh4Y5sLve",
        "colab": {
          "base_uri": "https://localhost:8080/"
        },
        "outputId": "4fc0e0c2-2bbc-4561-cf15-d93133edc856"
      },
      "execution_count": 47,
      "outputs": [
        {
          "output_type": "execute_result",
          "data": {
            "text/plain": [
              "[0.8246587874592028,\n",
              " 0.8197631292651566,\n",
              " 0.8211601226387102,\n",
              " 0.8080432202551675,\n",
              " 0.6528904163782019,\n",
              " 0.685379784393235,\n",
              " 0.705419839778459,\n",
              " 0.49808377015132027,\n",
              " 0.3571234299278014,\n",
              " 0.36245178518445254,\n",
              " 0.3589654831371773,\n",
              " 0.41589605380278905,\n",
              " 0.5052294530709129,\n",
              " 0.4462466620512313,\n",
              " 0.42677529423400257]"
            ]
          },
          "metadata": {},
          "execution_count": 47
        }
      ]
    },
    {
      "cell_type": "code",
      "source": [],
      "metadata": {
        "id": "926nJQeksJ_G"
      },
      "execution_count": 31,
      "outputs": []
    },
    {
      "cell_type": "code",
      "source": [],
      "metadata": {
        "id": "Sw__doilrzdf"
      },
      "execution_count": 31,
      "outputs": []
    },
    {
      "cell_type": "code",
      "source": [],
      "metadata": {
        "id": "Yo_Z0D5lruCI"
      },
      "execution_count": 31,
      "outputs": []
    },
    {
      "cell_type": "markdown",
      "source": [
        "Model Creation"
      ],
      "metadata": {
        "id": "AtwjPOwWrakp"
      }
    },
    {
      "cell_type": "code",
      "source": [],
      "metadata": {
        "id": "_uaMLeN5rXjB"
      },
      "execution_count": 31,
      "outputs": []
    },
    {
      "cell_type": "code",
      "source": [],
      "metadata": {
        "id": "s8ivo4OWp7oG"
      },
      "execution_count": 31,
      "outputs": []
    },
    {
      "cell_type": "code",
      "source": [],
      "metadata": {
        "id": "ydm31szioyTJ"
      },
      "execution_count": 31,
      "outputs": []
    },
    {
      "cell_type": "code",
      "source": [],
      "metadata": {
        "id": "SL0uDDavoBaU"
      },
      "execution_count": 31,
      "outputs": []
    },
    {
      "cell_type": "code",
      "source": [],
      "metadata": {
        "id": "go_QgY_7n-4V"
      },
      "execution_count": 31,
      "outputs": []
    },
    {
      "cell_type": "code",
      "source": [],
      "metadata": {
        "id": "gm2-AfRZnTD_"
      },
      "execution_count": 31,
      "outputs": []
    },
    {
      "cell_type": "code",
      "source": [],
      "metadata": {
        "id": "ReYFwCJpnQzv"
      },
      "execution_count": 31,
      "outputs": []
    },
    {
      "cell_type": "code",
      "source": [],
      "metadata": {
        "id": "DYxqcHK9mn-Z"
      },
      "execution_count": 31,
      "outputs": []
    },
    {
      "cell_type": "code",
      "source": [],
      "metadata": {
        "id": "gWJjDr-emhO7"
      },
      "execution_count": 31,
      "outputs": []
    },
    {
      "cell_type": "code",
      "source": [],
      "metadata": {
        "id": "69ifkc6CmghC"
      },
      "execution_count": 31,
      "outputs": []
    },
    {
      "cell_type": "code",
      "source": [],
      "metadata": {
        "id": "P8gxNhvZmdt6"
      },
      "execution_count": 31,
      "outputs": []
    },
    {
      "cell_type": "code",
      "source": [],
      "metadata": {
        "id": "RS-Owr1EmNQT"
      },
      "execution_count": 31,
      "outputs": []
    },
    {
      "cell_type": "code",
      "source": [],
      "metadata": {
        "id": "f_BwAhU0lNce"
      },
      "execution_count": 31,
      "outputs": []
    },
    {
      "cell_type": "code",
      "source": [],
      "metadata": {
        "id": "vnP4XZWYjel7"
      },
      "execution_count": 31,
      "outputs": []
    }
  ]
}